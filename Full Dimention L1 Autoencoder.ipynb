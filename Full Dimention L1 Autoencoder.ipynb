{
 "cells": [
  {
   "cell_type": "markdown",
   "metadata": {},
   "source": [
    "# Autocodificador sin reducción de dimensionalidad explicita\n",
    "\n",
    "El siguiente autocodificador se creo bajo la idea de reducir la dimensionalidad para una  base de datos de alta dimensión, a diferencia de un autocodificador tradicional en el cual se van reduciendo el número de neuronas gradualmente a manera de \"embudo\" la arquitectura de esté autocodifacodr tiene un cambio pequeño pero significativo.\n",
    "\n",
    "Cuando en un autocodificador clásico se llega a la representación latente más comprimida la dimensión de este vector latente es igual al número de neuronas del espacio latente, tipicamnete la dimensión latente es más pequeña que la dimensión de los datos de entrada así logrando reducir la dimensión de los datos, está representación latente se encuentra en la mitad de nuestro autocodificador y dependiendo del tipo de datos de entrada se seleccionan las funciones de costo, las cuales son normalmente una de regularización y de reconstrucción, ya que el objetivo al construir un autocodificador es lograr reproducir los datos de entrada.\n",
    "\n",
    "En este autocodificador tenemos  un espacio latente de la misma dimensión que los datos de entrada, lo cual no tendría sentido ya que no se está reduciendo la dimensionalidad pero añadimos un término de regularización a la función de costo el cual es la norma L2 de el vector latente para de esta fortma lograr que la salida de algunas neuronas se acerque o se haga cero, de esta manera se lográ reducir la dimensionalidad de manera implicita ya que auqellas  neuronas que esten cerca del cero o sean cero, podemos considerarlas como si no estuvieran ahí (ya que no aportan información significativa a la representación latente) por lo que podemos \"cortarlas\", de esta manera reduciendo las dimensiones de la información de entrada."
   ]
  },
  {
   "cell_type": "code",
   "execution_count": 1,
   "metadata": {},
   "outputs": [],
   "source": [
    "import warnings\n",
    "warnings.filterwarnings(\"ignore\")\n"
   ]
  },
  {
   "cell_type": "code",
   "execution_count": 2,
   "metadata": {
    "executionInfo": {
     "elapsed": 11372,
     "status": "ok",
     "timestamp": 1749526888070,
     "user": {
      "displayName": "Libni Reyes Machorro",
      "userId": "01607819748328925216"
     },
     "user_tz": 360
    },
    "id": "YC4b8jwp7a2z"
   },
   "outputs": [
    {
     "name": "stderr",
     "output_type": "stream",
     "text": [
      "2025-10-14 03:18:37.494543: I tensorflow/core/platform/cpu_feature_guard.cc:210] This TensorFlow binary is optimized to use available CPU instructions in performance-critical operations.\n",
      "To enable the following instructions: AVX2 FMA, in other operations, rebuild TensorFlow with the appropriate compiler flags.\n"
     ]
    }
   ],
   "source": [
    "import pandas as pd\n",
    "import numpy as np\n",
    "import tensorflow as tf\n",
    "from tensorflow import keras\n",
    "from tensorflow.keras.layers import LeakyReLU\n",
    "from tensorflow.keras import layers\n",
    "from sklearn.preprocessing import StandardScaler\n",
    "import matplotlib.pyplot as plt\n",
    "from scipy.stats import entropy\n",
    "from  scipy.special import  kl_div\n",
    "import tensorflow_probability as tfp"
   ]
  },
  {
   "cell_type": "code",
   "execution_count": 3,
   "metadata": {},
   "outputs": [
    {
     "name": "stdout",
     "output_type": "stream",
     "text": [
      "GPUS disponibles [PhysicalDevice(name='/physical_device:GPU:0', device_type='GPU')]\n"
     ]
    }
   ],
   "source": [
    "print(\"GPUS disponibles\", tf.config.list_physical_devices('GPU'))"
   ]
  },
  {
   "cell_type": "code",
   "execution_count": 4,
   "metadata": {
    "colab": {
     "base_uri": "https://localhost:8080/",
     "height": 236
    },
    "executionInfo": {
     "elapsed": 7466,
     "status": "ok",
     "timestamp": 1749526895539,
     "user": {
      "displayName": "Libni Reyes Machorro",
      "userId": "01607819748328925216"
     },
     "user_tz": 360
    },
    "id": "0C87yhOWddqt",
    "outputId": "254b5235-c736-4543-d8b0-c64577918399"
   },
   "outputs": [
    {
     "data": {
      "text/html": [
       "<div>\n",
       "<style scoped>\n",
       "    .dataframe tbody tr th:only-of-type {\n",
       "        vertical-align: middle;\n",
       "    }\n",
       "\n",
       "    .dataframe tbody tr th {\n",
       "        vertical-align: top;\n",
       "    }\n",
       "\n",
       "    .dataframe thead th {\n",
       "        text-align: right;\n",
       "    }\n",
       "</style>\n",
       "<table border=\"1\" class=\"dataframe\">\n",
       "  <thead>\n",
       "    <tr style=\"text-align: right;\">\n",
       "      <th></th>\n",
       "      <th>samples</th>\n",
       "      <th>type</th>\n",
       "      <th>1007_s_at</th>\n",
       "      <th>1053_at</th>\n",
       "      <th>117_at</th>\n",
       "      <th>121_at</th>\n",
       "      <th>1255_g_at</th>\n",
       "      <th>1294_at</th>\n",
       "      <th>1316_at</th>\n",
       "      <th>1320_at</th>\n",
       "      <th>...</th>\n",
       "      <th>AFFX-r2-Ec-bioD-3_at</th>\n",
       "      <th>AFFX-r2-Ec-bioD-5_at</th>\n",
       "      <th>AFFX-r2-P1-cre-3_at</th>\n",
       "      <th>AFFX-r2-P1-cre-5_at</th>\n",
       "      <th>AFFX-ThrX-3_at</th>\n",
       "      <th>AFFX-ThrX-5_at</th>\n",
       "      <th>AFFX-ThrX-M_at</th>\n",
       "      <th>AFFX-TrpnX-3_at</th>\n",
       "      <th>AFFX-TrpnX-5_at</th>\n",
       "      <th>AFFX-TrpnX-M_at</th>\n",
       "    </tr>\n",
       "  </thead>\n",
       "  <tbody>\n",
       "    <tr>\n",
       "      <th>0</th>\n",
       "      <td>GSM362958.CEL.gz</td>\n",
       "      <td>HCC</td>\n",
       "      <td>6.801198</td>\n",
       "      <td>4.553189</td>\n",
       "      <td>6.787790</td>\n",
       "      <td>5.430893</td>\n",
       "      <td>3.250222</td>\n",
       "      <td>6.272688</td>\n",
       "      <td>3.413405</td>\n",
       "      <td>3.374910</td>\n",
       "      <td>...</td>\n",
       "      <td>10.735084</td>\n",
       "      <td>10.398843</td>\n",
       "      <td>12.298551</td>\n",
       "      <td>12.270505</td>\n",
       "      <td>3.855588</td>\n",
       "      <td>3.148321</td>\n",
       "      <td>3.366087</td>\n",
       "      <td>3.199008</td>\n",
       "      <td>3.160388</td>\n",
       "      <td>3.366417</td>\n",
       "    </tr>\n",
       "    <tr>\n",
       "      <th>1</th>\n",
       "      <td>GSM362959.CEL.gz</td>\n",
       "      <td>HCC</td>\n",
       "      <td>7.585956</td>\n",
       "      <td>4.193540</td>\n",
       "      <td>3.763183</td>\n",
       "      <td>6.003593</td>\n",
       "      <td>3.309387</td>\n",
       "      <td>6.291927</td>\n",
       "      <td>3.754777</td>\n",
       "      <td>3.587603</td>\n",
       "      <td>...</td>\n",
       "      <td>11.528447</td>\n",
       "      <td>11.369919</td>\n",
       "      <td>12.867048</td>\n",
       "      <td>12.560433</td>\n",
       "      <td>4.016561</td>\n",
       "      <td>3.282867</td>\n",
       "      <td>3.541994</td>\n",
       "      <td>3.548680</td>\n",
       "      <td>3.460083</td>\n",
       "      <td>3.423348</td>\n",
       "    </tr>\n",
       "    <tr>\n",
       "      <th>2</th>\n",
       "      <td>GSM362960.CEL.gz</td>\n",
       "      <td>HCC</td>\n",
       "      <td>7.803370</td>\n",
       "      <td>4.134075</td>\n",
       "      <td>3.433113</td>\n",
       "      <td>5.395057</td>\n",
       "      <td>3.476944</td>\n",
       "      <td>5.825713</td>\n",
       "      <td>3.505036</td>\n",
       "      <td>3.687333</td>\n",
       "      <td>...</td>\n",
       "      <td>10.892460</td>\n",
       "      <td>10.416151</td>\n",
       "      <td>12.356337</td>\n",
       "      <td>11.888482</td>\n",
       "      <td>3.839367</td>\n",
       "      <td>3.598851</td>\n",
       "      <td>3.516791</td>\n",
       "      <td>3.484089</td>\n",
       "      <td>3.282626</td>\n",
       "      <td>3.512024</td>\n",
       "    </tr>\n",
       "    <tr>\n",
       "      <th>3</th>\n",
       "      <td>GSM362964.CEL.gz</td>\n",
       "      <td>HCC</td>\n",
       "      <td>6.920840</td>\n",
       "      <td>4.000651</td>\n",
       "      <td>3.754500</td>\n",
       "      <td>5.645297</td>\n",
       "      <td>3.387530</td>\n",
       "      <td>6.470458</td>\n",
       "      <td>3.629249</td>\n",
       "      <td>3.577534</td>\n",
       "      <td>...</td>\n",
       "      <td>10.686871</td>\n",
       "      <td>10.524836</td>\n",
       "      <td>12.006596</td>\n",
       "      <td>11.846195</td>\n",
       "      <td>3.867602</td>\n",
       "      <td>3.180472</td>\n",
       "      <td>3.309547</td>\n",
       "      <td>3.425501</td>\n",
       "      <td>3.166613</td>\n",
       "      <td>3.377499</td>\n",
       "    </tr>\n",
       "    <tr>\n",
       "      <th>4</th>\n",
       "      <td>GSM362965.CEL.gz</td>\n",
       "      <td>HCC</td>\n",
       "      <td>6.556480</td>\n",
       "      <td>4.599010</td>\n",
       "      <td>4.066155</td>\n",
       "      <td>6.344537</td>\n",
       "      <td>3.372081</td>\n",
       "      <td>5.439280</td>\n",
       "      <td>3.762213</td>\n",
       "      <td>3.440714</td>\n",
       "      <td>...</td>\n",
       "      <td>11.014454</td>\n",
       "      <td>10.775566</td>\n",
       "      <td>12.657182</td>\n",
       "      <td>12.573076</td>\n",
       "      <td>4.091440</td>\n",
       "      <td>3.306729</td>\n",
       "      <td>3.493704</td>\n",
       "      <td>3.205771</td>\n",
       "      <td>3.378567</td>\n",
       "      <td>3.392938</td>\n",
       "    </tr>\n",
       "  </tbody>\n",
       "</table>\n",
       "<p>5 rows × 22279 columns</p>\n",
       "</div>"
      ],
      "text/plain": [
       "            samples type  1007_s_at   1053_at    117_at    121_at  1255_g_at  \\\n",
       "0  GSM362958.CEL.gz  HCC   6.801198  4.553189  6.787790  5.430893   3.250222   \n",
       "1  GSM362959.CEL.gz  HCC   7.585956  4.193540  3.763183  6.003593   3.309387   \n",
       "2  GSM362960.CEL.gz  HCC   7.803370  4.134075  3.433113  5.395057   3.476944   \n",
       "3  GSM362964.CEL.gz  HCC   6.920840  4.000651  3.754500  5.645297   3.387530   \n",
       "4  GSM362965.CEL.gz  HCC   6.556480  4.599010  4.066155  6.344537   3.372081   \n",
       "\n",
       "    1294_at   1316_at   1320_at  ...  AFFX-r2-Ec-bioD-3_at  \\\n",
       "0  6.272688  3.413405  3.374910  ...             10.735084   \n",
       "1  6.291927  3.754777  3.587603  ...             11.528447   \n",
       "2  5.825713  3.505036  3.687333  ...             10.892460   \n",
       "3  6.470458  3.629249  3.577534  ...             10.686871   \n",
       "4  5.439280  3.762213  3.440714  ...             11.014454   \n",
       "\n",
       "   AFFX-r2-Ec-bioD-5_at  AFFX-r2-P1-cre-3_at  AFFX-r2-P1-cre-5_at  \\\n",
       "0             10.398843            12.298551            12.270505   \n",
       "1             11.369919            12.867048            12.560433   \n",
       "2             10.416151            12.356337            11.888482   \n",
       "3             10.524836            12.006596            11.846195   \n",
       "4             10.775566            12.657182            12.573076   \n",
       "\n",
       "   AFFX-ThrX-3_at  AFFX-ThrX-5_at  AFFX-ThrX-M_at  AFFX-TrpnX-3_at  \\\n",
       "0        3.855588        3.148321        3.366087         3.199008   \n",
       "1        4.016561        3.282867        3.541994         3.548680   \n",
       "2        3.839367        3.598851        3.516791         3.484089   \n",
       "3        3.867602        3.180472        3.309547         3.425501   \n",
       "4        4.091440        3.306729        3.493704         3.205771   \n",
       "\n",
       "   AFFX-TrpnX-5_at  AFFX-TrpnX-M_at  \n",
       "0         3.160388         3.366417  \n",
       "1         3.460083         3.423348  \n",
       "2         3.282626         3.512024  \n",
       "3         3.166613         3.377499  \n",
       "4         3.378567         3.392938  \n",
       "\n",
       "[5 rows x 22279 columns]"
      ]
     },
     "execution_count": 4,
     "metadata": {},
     "output_type": "execute_result"
    }
   ],
   "source": [
    "data = pd.read_csv('Liver_GSE14520_U133A.csv')\n",
    "data.head()\n"
   ]
  },
  {
   "cell_type": "code",
   "execution_count": 5,
   "metadata": {
    "colab": {
     "base_uri": "https://localhost:8080/",
     "height": 236
    },
    "executionInfo": {
     "elapsed": 54,
     "status": "ok",
     "timestamp": 1749526895595,
     "user": {
      "displayName": "Libni Reyes Machorro",
      "userId": "01607819748328925216"
     },
     "user_tz": 360
    },
    "id": "Ky3TxsbXd5Dn",
    "outputId": "71aefcde-8eae-4da0-996c-d1a3646b70b7",
    "scrolled": true
   },
   "outputs": [
    {
     "data": {
      "text/html": [
       "<div>\n",
       "<style scoped>\n",
       "    .dataframe tbody tr th:only-of-type {\n",
       "        vertical-align: middle;\n",
       "    }\n",
       "\n",
       "    .dataframe tbody tr th {\n",
       "        vertical-align: top;\n",
       "    }\n",
       "\n",
       "    .dataframe thead th {\n",
       "        text-align: right;\n",
       "    }\n",
       "</style>\n",
       "<table border=\"1\" class=\"dataframe\">\n",
       "  <thead>\n",
       "    <tr style=\"text-align: right;\">\n",
       "      <th></th>\n",
       "      <th>1007_s_at</th>\n",
       "      <th>1053_at</th>\n",
       "      <th>117_at</th>\n",
       "      <th>121_at</th>\n",
       "      <th>1255_g_at</th>\n",
       "      <th>1294_at</th>\n",
       "      <th>1316_at</th>\n",
       "      <th>1320_at</th>\n",
       "      <th>1405_i_at</th>\n",
       "      <th>1431_at</th>\n",
       "      <th>...</th>\n",
       "      <th>AFFX-r2-Ec-bioD-3_at</th>\n",
       "      <th>AFFX-r2-Ec-bioD-5_at</th>\n",
       "      <th>AFFX-r2-P1-cre-3_at</th>\n",
       "      <th>AFFX-r2-P1-cre-5_at</th>\n",
       "      <th>AFFX-ThrX-3_at</th>\n",
       "      <th>AFFX-ThrX-5_at</th>\n",
       "      <th>AFFX-ThrX-M_at</th>\n",
       "      <th>AFFX-TrpnX-3_at</th>\n",
       "      <th>AFFX-TrpnX-5_at</th>\n",
       "      <th>AFFX-TrpnX-M_at</th>\n",
       "    </tr>\n",
       "  </thead>\n",
       "  <tbody>\n",
       "    <tr>\n",
       "      <th>0</th>\n",
       "      <td>6.801198</td>\n",
       "      <td>4.553189</td>\n",
       "      <td>6.787790</td>\n",
       "      <td>5.430893</td>\n",
       "      <td>3.250222</td>\n",
       "      <td>6.272688</td>\n",
       "      <td>3.413405</td>\n",
       "      <td>3.374910</td>\n",
       "      <td>3.654116</td>\n",
       "      <td>3.804983</td>\n",
       "      <td>...</td>\n",
       "      <td>10.735084</td>\n",
       "      <td>10.398843</td>\n",
       "      <td>12.298551</td>\n",
       "      <td>12.270505</td>\n",
       "      <td>3.855588</td>\n",
       "      <td>3.148321</td>\n",
       "      <td>3.366087</td>\n",
       "      <td>3.199008</td>\n",
       "      <td>3.160388</td>\n",
       "      <td>3.366417</td>\n",
       "    </tr>\n",
       "    <tr>\n",
       "      <th>1</th>\n",
       "      <td>7.585956</td>\n",
       "      <td>4.193540</td>\n",
       "      <td>3.763183</td>\n",
       "      <td>6.003593</td>\n",
       "      <td>3.309387</td>\n",
       "      <td>6.291927</td>\n",
       "      <td>3.754777</td>\n",
       "      <td>3.587603</td>\n",
       "      <td>5.137159</td>\n",
       "      <td>8.622475</td>\n",
       "      <td>...</td>\n",
       "      <td>11.528447</td>\n",
       "      <td>11.369919</td>\n",
       "      <td>12.867048</td>\n",
       "      <td>12.560433</td>\n",
       "      <td>4.016561</td>\n",
       "      <td>3.282867</td>\n",
       "      <td>3.541994</td>\n",
       "      <td>3.548680</td>\n",
       "      <td>3.460083</td>\n",
       "      <td>3.423348</td>\n",
       "    </tr>\n",
       "    <tr>\n",
       "      <th>2</th>\n",
       "      <td>7.803370</td>\n",
       "      <td>4.134075</td>\n",
       "      <td>3.433113</td>\n",
       "      <td>5.395057</td>\n",
       "      <td>3.476944</td>\n",
       "      <td>5.825713</td>\n",
       "      <td>3.505036</td>\n",
       "      <td>3.687333</td>\n",
       "      <td>4.515175</td>\n",
       "      <td>12.681439</td>\n",
       "      <td>...</td>\n",
       "      <td>10.892460</td>\n",
       "      <td>10.416151</td>\n",
       "      <td>12.356337</td>\n",
       "      <td>11.888482</td>\n",
       "      <td>3.839367</td>\n",
       "      <td>3.598851</td>\n",
       "      <td>3.516791</td>\n",
       "      <td>3.484089</td>\n",
       "      <td>3.282626</td>\n",
       "      <td>3.512024</td>\n",
       "    </tr>\n",
       "    <tr>\n",
       "      <th>3</th>\n",
       "      <td>6.920840</td>\n",
       "      <td>4.000651</td>\n",
       "      <td>3.754500</td>\n",
       "      <td>5.645297</td>\n",
       "      <td>3.387530</td>\n",
       "      <td>6.470458</td>\n",
       "      <td>3.629249</td>\n",
       "      <td>3.577534</td>\n",
       "      <td>5.192624</td>\n",
       "      <td>11.759412</td>\n",
       "      <td>...</td>\n",
       "      <td>10.686871</td>\n",
       "      <td>10.524836</td>\n",
       "      <td>12.006596</td>\n",
       "      <td>11.846195</td>\n",
       "      <td>3.867602</td>\n",
       "      <td>3.180472</td>\n",
       "      <td>3.309547</td>\n",
       "      <td>3.425501</td>\n",
       "      <td>3.166613</td>\n",
       "      <td>3.377499</td>\n",
       "    </tr>\n",
       "    <tr>\n",
       "      <th>4</th>\n",
       "      <td>6.556480</td>\n",
       "      <td>4.599010</td>\n",
       "      <td>4.066155</td>\n",
       "      <td>6.344537</td>\n",
       "      <td>3.372081</td>\n",
       "      <td>5.439280</td>\n",
       "      <td>3.762213</td>\n",
       "      <td>3.440714</td>\n",
       "      <td>4.961625</td>\n",
       "      <td>10.318552</td>\n",
       "      <td>...</td>\n",
       "      <td>11.014454</td>\n",
       "      <td>10.775566</td>\n",
       "      <td>12.657182</td>\n",
       "      <td>12.573076</td>\n",
       "      <td>4.091440</td>\n",
       "      <td>3.306729</td>\n",
       "      <td>3.493704</td>\n",
       "      <td>3.205771</td>\n",
       "      <td>3.378567</td>\n",
       "      <td>3.392938</td>\n",
       "    </tr>\n",
       "  </tbody>\n",
       "</table>\n",
       "<p>5 rows × 22277 columns</p>\n",
       "</div>"
      ],
      "text/plain": [
       "   1007_s_at   1053_at    117_at    121_at  1255_g_at   1294_at   1316_at  \\\n",
       "0   6.801198  4.553189  6.787790  5.430893   3.250222  6.272688  3.413405   \n",
       "1   7.585956  4.193540  3.763183  6.003593   3.309387  6.291927  3.754777   \n",
       "2   7.803370  4.134075  3.433113  5.395057   3.476944  5.825713  3.505036   \n",
       "3   6.920840  4.000651  3.754500  5.645297   3.387530  6.470458  3.629249   \n",
       "4   6.556480  4.599010  4.066155  6.344537   3.372081  5.439280  3.762213   \n",
       "\n",
       "    1320_at  1405_i_at    1431_at  ...  AFFX-r2-Ec-bioD-3_at  \\\n",
       "0  3.374910   3.654116   3.804983  ...             10.735084   \n",
       "1  3.587603   5.137159   8.622475  ...             11.528447   \n",
       "2  3.687333   4.515175  12.681439  ...             10.892460   \n",
       "3  3.577534   5.192624  11.759412  ...             10.686871   \n",
       "4  3.440714   4.961625  10.318552  ...             11.014454   \n",
       "\n",
       "   AFFX-r2-Ec-bioD-5_at  AFFX-r2-P1-cre-3_at  AFFX-r2-P1-cre-5_at  \\\n",
       "0             10.398843            12.298551            12.270505   \n",
       "1             11.369919            12.867048            12.560433   \n",
       "2             10.416151            12.356337            11.888482   \n",
       "3             10.524836            12.006596            11.846195   \n",
       "4             10.775566            12.657182            12.573076   \n",
       "\n",
       "   AFFX-ThrX-3_at  AFFX-ThrX-5_at  AFFX-ThrX-M_at  AFFX-TrpnX-3_at  \\\n",
       "0        3.855588        3.148321        3.366087         3.199008   \n",
       "1        4.016561        3.282867        3.541994         3.548680   \n",
       "2        3.839367        3.598851        3.516791         3.484089   \n",
       "3        3.867602        3.180472        3.309547         3.425501   \n",
       "4        4.091440        3.306729        3.493704         3.205771   \n",
       "\n",
       "   AFFX-TrpnX-5_at  AFFX-TrpnX-M_at  \n",
       "0         3.160388         3.366417  \n",
       "1         3.460083         3.423348  \n",
       "2         3.282626         3.512024  \n",
       "3         3.166613         3.377499  \n",
       "4         3.378567         3.392938  \n",
       "\n",
       "[5 rows x 22277 columns]"
      ]
     },
     "execution_count": 5,
     "metadata": {},
     "output_type": "execute_result"
    }
   ],
   "source": [
    "data.drop(['samples','type'], axis=1, inplace=True)\n",
    "data.head()"
   ]
  },
  {
   "cell_type": "code",
   "execution_count": 6,
   "metadata": {
    "executionInfo": {
     "elapsed": 192,
     "status": "ok",
     "timestamp": 1749526895797,
     "user": {
      "displayName": "Libni Reyes Machorro",
      "userId": "01607819748328925216"
     },
     "user_tz": 360
    },
    "id": "_NgaeFHafGPv"
   },
   "outputs": [],
   "source": [
    "# Normalización de los datos\n",
    "data = data.values.astype(np.float32)\n",
    "data = StandardScaler().fit_transform(data)"
   ]
  },
  {
   "cell_type": "code",
   "execution_count": 7,
   "metadata": {
    "executionInfo": {
     "elapsed": 1,
     "status": "ok",
     "timestamp": 1749526895801,
     "user": {
      "displayName": "Libni Reyes Machorro",
      "userId": "01607819748328925216"
     },
     "user_tz": 360
    },
    "id": "OQVuiS_reHTG"
   },
   "outputs": [],
   "source": [
    "# Hiperparametros de la red\n",
    "input_dim = data.shape[1]\n",
    "latent_dim = input_dim\n",
    "learning_rate = 0.00005\n",
    "l1_norm_weight = 1e-5\n",
    "recon_weight = 1\n",
    "negative_slope = 0.1\n",
    "mini_batch_size = 51\n",
    "epochs=100"
   ]
  },
  {
   "cell_type": "code",
   "execution_count": 8,
   "metadata": {
    "executionInfo": {
     "elapsed": 7953,
     "status": "ok",
     "timestamp": 1749526903756,
     "user": {
      "displayName": "Libni Reyes Machorro",
      "userId": "01607819748328925216"
     },
     "user_tz": 360
    },
    "id": "dELPL2CKfBxc"
   },
   "outputs": [
    {
     "name": "stderr",
     "output_type": "stream",
     "text": [
      "WARNING: All log messages before absl::InitializeLog() is called are written to STDERR\n",
      "I0000 00:00:1760411934.186960   10089 gpu_device.cc:2020] Created device /job:localhost/replica:0/task:0/device:GPU:0 with 21768 MB memory:  -> device: 0, name: NVIDIA GeForce RTX 3090, pci bus id: 0000:0a:00.0, compute capability: 8.6\n"
     ]
    }
   ],
   "source": [
    "# encoder\n",
    "input_layer = keras.Input(shape=(input_dim,))\n",
    "latent_space = layers.Dense(input_dim, name=\"latent_space\")(input_layer)\n",
    "latent_space =  LeakyReLU(negative_slope)(latent_space)"
   ]
  },
  {
   "cell_type": "code",
   "execution_count": 9,
   "metadata": {
    "colab": {
     "base_uri": "https://localhost:8080/",
     "height": 204
    },
    "executionInfo": {
     "elapsed": 10,
     "status": "ok",
     "timestamp": 1749526903774,
     "user": {
      "displayName": "Libni Reyes Machorro",
      "userId": "01607819748328925216"
     },
     "user_tz": 360
    },
    "id": "dIsVWpjFgl2x",
    "outputId": "b6d11b3d-95bd-46a0-a16a-3142e2a1fb45"
   },
   "outputs": [
    {
     "data": {
      "text/html": [
       "<pre style=\"white-space:pre;overflow-x:auto;line-height:normal;font-family:Menlo,'DejaVu Sans Mono',consolas,'Courier New',monospace\"><span style=\"font-weight: bold\">Model: \"encoder\"</span>\n",
       "</pre>\n"
      ],
      "text/plain": [
       "\u001b[1mModel: \"encoder\"\u001b[0m\n"
      ]
     },
     "metadata": {},
     "output_type": "display_data"
    },
    {
     "data": {
      "text/html": [
       "<pre style=\"white-space:pre;overflow-x:auto;line-height:normal;font-family:Menlo,'DejaVu Sans Mono',consolas,'Courier New',monospace\">┏━━━━━━━━━━━━━━━━━━━━━━━━━━━━━━━━━┳━━━━━━━━━━━━━━━━━━━━━━━━┳━━━━━━━━━━━━━━━┓\n",
       "┃<span style=\"font-weight: bold\"> Layer (type)                    </span>┃<span style=\"font-weight: bold\"> Output Shape           </span>┃<span style=\"font-weight: bold\">       Param # </span>┃\n",
       "┡━━━━━━━━━━━━━━━━━━━━━━━━━━━━━━━━━╇━━━━━━━━━━━━━━━━━━━━━━━━╇━━━━━━━━━━━━━━━┩\n",
       "│ input_layer (<span style=\"color: #0087ff; text-decoration-color: #0087ff\">InputLayer</span>)        │ (<span style=\"color: #00d7ff; text-decoration-color: #00d7ff\">None</span>, <span style=\"color: #00af00; text-decoration-color: #00af00\">22277</span>)          │             <span style=\"color: #00af00; text-decoration-color: #00af00\">0</span> │\n",
       "├─────────────────────────────────┼────────────────────────┼───────────────┤\n",
       "│ latent_space (<span style=\"color: #0087ff; text-decoration-color: #0087ff\">Dense</span>)            │ (<span style=\"color: #00d7ff; text-decoration-color: #00d7ff\">None</span>, <span style=\"color: #00af00; text-decoration-color: #00af00\">22277</span>)          │   <span style=\"color: #00af00; text-decoration-color: #00af00\">496,287,006</span> │\n",
       "├─────────────────────────────────┼────────────────────────┼───────────────┤\n",
       "│ leaky_re_lu (<span style=\"color: #0087ff; text-decoration-color: #0087ff\">LeakyReLU</span>)         │ (<span style=\"color: #00d7ff; text-decoration-color: #00d7ff\">None</span>, <span style=\"color: #00af00; text-decoration-color: #00af00\">22277</span>)          │             <span style=\"color: #00af00; text-decoration-color: #00af00\">0</span> │\n",
       "└─────────────────────────────────┴────────────────────────┴───────────────┘\n",
       "</pre>\n"
      ],
      "text/plain": [
       "┏━━━━━━━━━━━━━━━━━━━━━━━━━━━━━━━━━┳━━━━━━━━━━━━━━━━━━━━━━━━┳━━━━━━━━━━━━━━━┓\n",
       "┃\u001b[1m \u001b[0m\u001b[1mLayer (type)                   \u001b[0m\u001b[1m \u001b[0m┃\u001b[1m \u001b[0m\u001b[1mOutput Shape          \u001b[0m\u001b[1m \u001b[0m┃\u001b[1m \u001b[0m\u001b[1m      Param #\u001b[0m\u001b[1m \u001b[0m┃\n",
       "┡━━━━━━━━━━━━━━━━━━━━━━━━━━━━━━━━━╇━━━━━━━━━━━━━━━━━━━━━━━━╇━━━━━━━━━━━━━━━┩\n",
       "│ input_layer (\u001b[38;5;33mInputLayer\u001b[0m)        │ (\u001b[38;5;45mNone\u001b[0m, \u001b[38;5;34m22277\u001b[0m)          │             \u001b[38;5;34m0\u001b[0m │\n",
       "├─────────────────────────────────┼────────────────────────┼───────────────┤\n",
       "│ latent_space (\u001b[38;5;33mDense\u001b[0m)            │ (\u001b[38;5;45mNone\u001b[0m, \u001b[38;5;34m22277\u001b[0m)          │   \u001b[38;5;34m496,287,006\u001b[0m │\n",
       "├─────────────────────────────────┼────────────────────────┼───────────────┤\n",
       "│ leaky_re_lu (\u001b[38;5;33mLeakyReLU\u001b[0m)         │ (\u001b[38;5;45mNone\u001b[0m, \u001b[38;5;34m22277\u001b[0m)          │             \u001b[38;5;34m0\u001b[0m │\n",
       "└─────────────────────────────────┴────────────────────────┴───────────────┘\n"
      ]
     },
     "metadata": {},
     "output_type": "display_data"
    },
    {
     "data": {
      "text/html": [
       "<pre style=\"white-space:pre;overflow-x:auto;line-height:normal;font-family:Menlo,'DejaVu Sans Mono',consolas,'Courier New',monospace\"><span style=\"font-weight: bold\"> Total params: </span><span style=\"color: #00af00; text-decoration-color: #00af00\">496,287,006</span> (1.85 GB)\n",
       "</pre>\n"
      ],
      "text/plain": [
       "\u001b[1m Total params: \u001b[0m\u001b[38;5;34m496,287,006\u001b[0m (1.85 GB)\n"
      ]
     },
     "metadata": {},
     "output_type": "display_data"
    },
    {
     "data": {
      "text/html": [
       "<pre style=\"white-space:pre;overflow-x:auto;line-height:normal;font-family:Menlo,'DejaVu Sans Mono',consolas,'Courier New',monospace\"><span style=\"font-weight: bold\"> Trainable params: </span><span style=\"color: #00af00; text-decoration-color: #00af00\">496,287,006</span> (1.85 GB)\n",
       "</pre>\n"
      ],
      "text/plain": [
       "\u001b[1m Trainable params: \u001b[0m\u001b[38;5;34m496,287,006\u001b[0m (1.85 GB)\n"
      ]
     },
     "metadata": {},
     "output_type": "display_data"
    },
    {
     "data": {
      "text/html": [
       "<pre style=\"white-space:pre;overflow-x:auto;line-height:normal;font-family:Menlo,'DejaVu Sans Mono',consolas,'Courier New',monospace\"><span style=\"font-weight: bold\"> Non-trainable params: </span><span style=\"color: #00af00; text-decoration-color: #00af00\">0</span> (0.00 B)\n",
       "</pre>\n"
      ],
      "text/plain": [
       "\u001b[1m Non-trainable params: \u001b[0m\u001b[38;5;34m0\u001b[0m (0.00 B)\n"
      ]
     },
     "metadata": {},
     "output_type": "display_data"
    }
   ],
   "source": [
    "encoder = keras.Model(input_layer, latent_space, name=\"encoder\")\n",
    "encoder.summary()"
   ]
  },
  {
   "cell_type": "code",
   "execution_count": 10,
   "metadata": {
    "executionInfo": {
     "elapsed": 4952,
     "status": "ok",
     "timestamp": 1749526908727,
     "user": {
      "displayName": "Libni Reyes Machorro",
      "userId": "01607819748328925216"
     },
     "user_tz": 360
    },
    "id": "kudjUACYgP8m"
   },
   "outputs": [],
   "source": [
    "# decoder\n",
    "latent_input = keras.Input(shape=(input_dim,), name=\"decoder_input\")\n",
    "reconstruction = layers.Dense(input_dim, name=\"decoder_output\")(latent_input)\n",
    "reconstruction = layers.LeakyReLU(negative_slope)(reconstruction)"
   ]
  },
  {
   "cell_type": "code",
   "execution_count": 11,
   "metadata": {
    "colab": {
     "base_uri": "https://localhost:8080/",
     "height": 204
    },
    "executionInfo": {
     "elapsed": 22,
     "status": "ok",
     "timestamp": 1749526908748,
     "user": {
      "displayName": "Libni Reyes Machorro",
      "userId": "01607819748328925216"
     },
     "user_tz": 360
    },
    "id": "N6EBtnQfgfg9",
    "outputId": "c0010d6b-a078-4873-b23e-dfa9d9985c7a"
   },
   "outputs": [
    {
     "data": {
      "text/html": [
       "<pre style=\"white-space:pre;overflow-x:auto;line-height:normal;font-family:Menlo,'DejaVu Sans Mono',consolas,'Courier New',monospace\"><span style=\"font-weight: bold\">Model: \"decoder\"</span>\n",
       "</pre>\n"
      ],
      "text/plain": [
       "\u001b[1mModel: \"decoder\"\u001b[0m\n"
      ]
     },
     "metadata": {},
     "output_type": "display_data"
    },
    {
     "data": {
      "text/html": [
       "<pre style=\"white-space:pre;overflow-x:auto;line-height:normal;font-family:Menlo,'DejaVu Sans Mono',consolas,'Courier New',monospace\">┏━━━━━━━━━━━━━━━━━━━━━━━━━━━━━━━━━┳━━━━━━━━━━━━━━━━━━━━━━━━┳━━━━━━━━━━━━━━━┓\n",
       "┃<span style=\"font-weight: bold\"> Layer (type)                    </span>┃<span style=\"font-weight: bold\"> Output Shape           </span>┃<span style=\"font-weight: bold\">       Param # </span>┃\n",
       "┡━━━━━━━━━━━━━━━━━━━━━━━━━━━━━━━━━╇━━━━━━━━━━━━━━━━━━━━━━━━╇━━━━━━━━━━━━━━━┩\n",
       "│ decoder_input (<span style=\"color: #0087ff; text-decoration-color: #0087ff\">InputLayer</span>)      │ (<span style=\"color: #00d7ff; text-decoration-color: #00d7ff\">None</span>, <span style=\"color: #00af00; text-decoration-color: #00af00\">22277</span>)          │             <span style=\"color: #00af00; text-decoration-color: #00af00\">0</span> │\n",
       "├─────────────────────────────────┼────────────────────────┼───────────────┤\n",
       "│ decoder_output (<span style=\"color: #0087ff; text-decoration-color: #0087ff\">Dense</span>)          │ (<span style=\"color: #00d7ff; text-decoration-color: #00d7ff\">None</span>, <span style=\"color: #00af00; text-decoration-color: #00af00\">22277</span>)          │   <span style=\"color: #00af00; text-decoration-color: #00af00\">496,287,006</span> │\n",
       "├─────────────────────────────────┼────────────────────────┼───────────────┤\n",
       "│ leaky_re_lu_1 (<span style=\"color: #0087ff; text-decoration-color: #0087ff\">LeakyReLU</span>)       │ (<span style=\"color: #00d7ff; text-decoration-color: #00d7ff\">None</span>, <span style=\"color: #00af00; text-decoration-color: #00af00\">22277</span>)          │             <span style=\"color: #00af00; text-decoration-color: #00af00\">0</span> │\n",
       "└─────────────────────────────────┴────────────────────────┴───────────────┘\n",
       "</pre>\n"
      ],
      "text/plain": [
       "┏━━━━━━━━━━━━━━━━━━━━━━━━━━━━━━━━━┳━━━━━━━━━━━━━━━━━━━━━━━━┳━━━━━━━━━━━━━━━┓\n",
       "┃\u001b[1m \u001b[0m\u001b[1mLayer (type)                   \u001b[0m\u001b[1m \u001b[0m┃\u001b[1m \u001b[0m\u001b[1mOutput Shape          \u001b[0m\u001b[1m \u001b[0m┃\u001b[1m \u001b[0m\u001b[1m      Param #\u001b[0m\u001b[1m \u001b[0m┃\n",
       "┡━━━━━━━━━━━━━━━━━━━━━━━━━━━━━━━━━╇━━━━━━━━━━━━━━━━━━━━━━━━╇━━━━━━━━━━━━━━━┩\n",
       "│ decoder_input (\u001b[38;5;33mInputLayer\u001b[0m)      │ (\u001b[38;5;45mNone\u001b[0m, \u001b[38;5;34m22277\u001b[0m)          │             \u001b[38;5;34m0\u001b[0m │\n",
       "├─────────────────────────────────┼────────────────────────┼───────────────┤\n",
       "│ decoder_output (\u001b[38;5;33mDense\u001b[0m)          │ (\u001b[38;5;45mNone\u001b[0m, \u001b[38;5;34m22277\u001b[0m)          │   \u001b[38;5;34m496,287,006\u001b[0m │\n",
       "├─────────────────────────────────┼────────────────────────┼───────────────┤\n",
       "│ leaky_re_lu_1 (\u001b[38;5;33mLeakyReLU\u001b[0m)       │ (\u001b[38;5;45mNone\u001b[0m, \u001b[38;5;34m22277\u001b[0m)          │             \u001b[38;5;34m0\u001b[0m │\n",
       "└─────────────────────────────────┴────────────────────────┴───────────────┘\n"
      ]
     },
     "metadata": {},
     "output_type": "display_data"
    },
    {
     "data": {
      "text/html": [
       "<pre style=\"white-space:pre;overflow-x:auto;line-height:normal;font-family:Menlo,'DejaVu Sans Mono',consolas,'Courier New',monospace\"><span style=\"font-weight: bold\"> Total params: </span><span style=\"color: #00af00; text-decoration-color: #00af00\">496,287,006</span> (1.85 GB)\n",
       "</pre>\n"
      ],
      "text/plain": [
       "\u001b[1m Total params: \u001b[0m\u001b[38;5;34m496,287,006\u001b[0m (1.85 GB)\n"
      ]
     },
     "metadata": {},
     "output_type": "display_data"
    },
    {
     "data": {
      "text/html": [
       "<pre style=\"white-space:pre;overflow-x:auto;line-height:normal;font-family:Menlo,'DejaVu Sans Mono',consolas,'Courier New',monospace\"><span style=\"font-weight: bold\"> Trainable params: </span><span style=\"color: #00af00; text-decoration-color: #00af00\">496,287,006</span> (1.85 GB)\n",
       "</pre>\n"
      ],
      "text/plain": [
       "\u001b[1m Trainable params: \u001b[0m\u001b[38;5;34m496,287,006\u001b[0m (1.85 GB)\n"
      ]
     },
     "metadata": {},
     "output_type": "display_data"
    },
    {
     "data": {
      "text/html": [
       "<pre style=\"white-space:pre;overflow-x:auto;line-height:normal;font-family:Menlo,'DejaVu Sans Mono',consolas,'Courier New',monospace\"><span style=\"font-weight: bold\"> Non-trainable params: </span><span style=\"color: #00af00; text-decoration-color: #00af00\">0</span> (0.00 B)\n",
       "</pre>\n"
      ],
      "text/plain": [
       "\u001b[1m Non-trainable params: \u001b[0m\u001b[38;5;34m0\u001b[0m (0.00 B)\n"
      ]
     },
     "metadata": {},
     "output_type": "display_data"
    }
   ],
   "source": [
    "decoder = keras.Model(latent_input, reconstruction, name=\"decoder\")\n",
    "decoder.summary()"
   ]
  },
  {
   "cell_type": "code",
   "execution_count": 12,
   "metadata": {
    "executionInfo": {
     "elapsed": 18,
     "status": "ok",
     "timestamp": 1749526908767,
     "user": {
      "displayName": "Libni Reyes Machorro",
      "userId": "01607819748328925216"
     },
     "user_tz": 360
    },
    "id": "EmNoj_73g2WJ"
   },
   "outputs": [],
   "source": [
    "class Autoencoder(keras.Model):\n",
    "  def __init__(self, encoder, decoder, l1_norm_weight, recon_weight, **kwargs):\n",
    "    super(Autoencoder, self).__init__(**kwargs)\n",
    "    self.encoder = encoder\n",
    "    self.decoder = decoder\n",
    "    self.l1_norm_weight = l1_norm_weight\n",
    "    self.recon_weight = recon_weight\n",
    "    self.total_loss_tracker = keras.metrics.Mean(name=\"total_loss\")\n",
    "    self.reconstruction_loss_tracker = keras.metrics.Mean(name=\"reconstruction_loss\")\n",
    "    self.l1_norm_loss_tracker = keras.metrics.Mean(name=\"l1_norm_loss\")\n",
    "\n",
    "  def call(self, inputs):\n",
    "      encoded = self.encoder(inputs)\n",
    "      decoded = self.decoder(encoded)\n",
    "      return decoded\n",
    "\n",
    "  @property\n",
    "  def metrics(self):\n",
    "    return [\n",
    "        self.total_loss_tracker,\n",
    "        self.reconstruction_loss_tracker,\n",
    "        self.l1_norm_loss_tracker,\n",
    "    ]\n",
    "\n",
    "  def train_step(self, data):\n",
    "    if isinstance(data, tuple):\n",
    "        data = data[0]\n",
    "\n",
    "    with tf.GradientTape() as tape:\n",
    "        latent_rep = self.encoder(data)\n",
    "        l1_norm_loss = tf.reduce_sum(tf.abs(latent_rep))*self.l1_norm_weight\n",
    "        x_reconstructed = self.decoder(latent_rep)\n",
    "        reconstruction_loss = tf.reduce_mean(\n",
    "                    tf.square(data - x_reconstructed)\n",
    "                )*self.recon_weight\n",
    "\n",
    "        total_loss = l1_norm_loss + reconstruction_loss\n",
    "    grads =  tape.gradient(total_loss, self.trainable_weights)\n",
    "    self.optimizer.apply_gradients(zip(grads, self.trainable_weights))\n",
    "\n",
    "    self.total_loss_tracker.update_state(total_loss)\n",
    "    self.reconstruction_loss_tracker.update_state(reconstruction_loss)\n",
    "    self.l1_norm_loss_tracker.update_state(l1_norm_loss)\n",
    "    return {\n",
    "        \"loss\": self.total_loss_tracker.result(),\n",
    "        \"reconstruction_loss\": self.reconstruction_loss_tracker.result(),\n",
    "        \"l1_norm_loss\": self.l1_norm_loss_tracker.result(),\n",
    "    }\n",
    "\n",
    "\n",
    "\n",
    "\n",
    "\n"
   ]
  },
  {
   "cell_type": "code",
   "execution_count": 13,
   "metadata": {},
   "outputs": [],
   "source": [
    "#implementar un dataset de tensorflow\n",
    "dataset = tf.data.Dataset.from_tensor_slices(data)\n",
    "dataset = dataset.shuffle(buffer_size=357).batch(mini_batch_size)"
   ]
  },
  {
   "cell_type": "code",
   "execution_count": null,
   "metadata": {
    "colab": {
     "base_uri": "https://localhost:8080/"
    },
    "id": "pnsX-ZiFjXqv",
    "outputId": "deb7edac-0d9c-42dc-db38-a7f2996cb975"
   },
   "outputs": [
    {
     "name": "stdout",
     "output_type": "stream",
     "text": [
      "Epoch 1/100\n"
     ]
    },
    {
     "name": "stderr",
     "output_type": "stream",
     "text": [
      "2025-10-14 03:19:09.258979: I external/local_xla/xla/service/service.cc:163] XLA service 0x734f380058b0 initialized for platform CUDA (this does not guarantee that XLA will be used). Devices:\n",
      "2025-10-14 03:19:09.259012: I external/local_xla/xla/service/service.cc:171]   StreamExecutor device (0): NVIDIA GeForce RTX 3090, Compute Capability 8.6\n",
      "2025-10-14 03:19:09.306321: I tensorflow/compiler/mlir/tensorflow/utils/dump_mlir_util.cc:269] disabling MLIR crash reproducer, set env var `MLIR_CRASH_REPRODUCER_DIRECTORY` to enable.\n",
      "2025-10-14 03:19:09.364796: I external/local_xla/xla/stream_executor/cuda/cuda_dnn.cc:473] Loaded cuDNN version 91400\n",
      "2025-10-14 03:19:09.773276: I external/local_xla/xla/stream_executor/cuda/subprocess_compilation.cc:346] ptxas warning : Registers are spilled to local memory in function 'gemm_fusion_dot_236', 4 bytes spill stores, 4 bytes spill loads\n",
      "\n",
      "2025-10-14 03:19:10.123713: I external/local_xla/xla/stream_executor/cuda/subprocess_compilation.cc:346] ptxas warning : Registers are spilled to local memory in function 'gemm_fusion_dot_236', 52 bytes spill stores, 64 bytes spill loads\n",
      "\n",
      "2025-10-14 03:19:10.179243: I external/local_xla/xla/stream_executor/cuda/subprocess_compilation.cc:346] ptxas warning : Registers are spilled to local memory in function 'gemm_fusion_dot_87', 48 bytes spill stores, 64 bytes spill loads\n",
      "\n",
      "2025-10-14 03:19:10.192587: I external/local_xla/xla/stream_executor/cuda/subprocess_compilation.cc:346] ptxas warning : Registers are spilled to local memory in function 'gemm_fusion_dot_252', 8 bytes spill stores, 8 bytes spill loads\n",
      "\n",
      "2025-10-14 03:19:10.870622: W external/local_xla/xla/hlo/transforms/simplifiers/hlo_rematerialization.cc:3023] Can't reduce memory use below 7.70GiB (8264991178 bytes) by rematerialization; only reduced to 12.95GiB (13909759064 bytes), down from 12.95GiB (13909759144 bytes) originally\n"
     ]
    },
    {
     "name": "stdout",
     "output_type": "stream",
     "text": [
      "\u001b[1m3/7\u001b[0m \u001b[32m━━━━━━━━\u001b[0m\u001b[37m━━━━━━━━━━━━\u001b[0m \u001b[1m0s\u001b[0m 53ms/step - l1_norm_loss: 4.7243 - loss: 5.9471 - reconstruction_loss: 1.2228"
     ]
    },
    {
     "name": "stderr",
     "output_type": "stream",
     "text": [
      "I0000 00:00:1760411954.986243   10253 device_compiler.h:196] Compiled cluster using XLA!  This line is logged at most once for the lifetime of the process.\n"
     ]
    },
    {
     "name": "stdout",
     "output_type": "stream",
     "text": [
      "\u001b[1m7/7\u001b[0m \u001b[32m━━━━━━━━━━━━━━━━━━━━\u001b[0m\u001b[37m\u001b[0m \u001b[1m9s\u001b[0m 54ms/step - l1_norm_loss: 4.3159 - loss: 5.3863 - reconstruction_loss: 1.0704\n",
      "Epoch 2/100\n",
      "\u001b[1m7/7\u001b[0m \u001b[32m━━━━━━━━━━━━━━━━━━━━\u001b[0m\u001b[37m\u001b[0m \u001b[1m0s\u001b[0m 54ms/step - l1_norm_loss: 3.4284 - loss: 4.4325 - reconstruction_loss: 1.0041\n",
      "Epoch 3/100\n",
      "\u001b[1m7/7\u001b[0m \u001b[32m━━━━━━━━━━━━━━━━━━━━\u001b[0m\u001b[37m\u001b[0m \u001b[1m0s\u001b[0m 55ms/step - l1_norm_loss: 3.0012 - loss: 3.9936 - reconstruction_loss: 0.9924\n",
      "Epoch 4/100\n",
      "\u001b[1m7/7\u001b[0m \u001b[32m━━━━━━━━━━━━━━━━━━━━\u001b[0m\u001b[37m\u001b[0m \u001b[1m0s\u001b[0m 55ms/step - l1_norm_loss: 2.6414 - loss: 3.6243 - reconstruction_loss: 0.9830\n",
      "Epoch 5/100\n",
      "\u001b[1m7/7\u001b[0m \u001b[32m━━━━━━━━━━━━━━━━━━━━\u001b[0m\u001b[37m\u001b[0m \u001b[1m0s\u001b[0m 55ms/step - l1_norm_loss: 2.3558 - loss: 3.3245 - reconstruction_loss: 0.9687\n",
      "Epoch 6/100\n",
      "\u001b[1m7/7\u001b[0m \u001b[32m━━━━━━━━━━━━━━━━━━━━\u001b[0m\u001b[37m\u001b[0m \u001b[1m0s\u001b[0m 54ms/step - l1_norm_loss: 2.1282 - loss: 3.0825 - reconstruction_loss: 0.9543\n",
      "Epoch 7/100\n",
      "\u001b[1m7/7\u001b[0m \u001b[32m━━━━━━━━━━━━━━━━━━━━\u001b[0m\u001b[37m\u001b[0m \u001b[1m0s\u001b[0m 54ms/step - l1_norm_loss: 1.9214 - loss: 2.8576 - reconstruction_loss: 0.9362\n",
      "Epoch 8/100\n",
      "\u001b[1m7/7\u001b[0m \u001b[32m━━━━━━━━━━━━━━━━━━━━\u001b[0m\u001b[37m\u001b[0m \u001b[1m0s\u001b[0m 54ms/step - l1_norm_loss: 1.7436 - loss: 2.6579 - reconstruction_loss: 0.9143\n",
      "Epoch 9/100\n",
      "\u001b[1m7/7\u001b[0m \u001b[32m━━━━━━━━━━━━━━━━━━━━\u001b[0m\u001b[37m\u001b[0m \u001b[1m0s\u001b[0m 54ms/step - l1_norm_loss: 1.5987 - loss: 2.4866 - reconstruction_loss: 0.8879\n",
      "Epoch 10/100\n",
      "\u001b[1m7/7\u001b[0m \u001b[32m━━━━━━━━━━━━━━━━━━━━\u001b[0m\u001b[37m\u001b[0m \u001b[1m0s\u001b[0m 54ms/step - l1_norm_loss: 1.4475 - loss: 2.3107 - reconstruction_loss: 0.8632\n",
      "Epoch 11/100\n",
      "\u001b[1m7/7\u001b[0m \u001b[32m━━━━━━━━━━━━━━━━━━━━\u001b[0m\u001b[37m\u001b[0m \u001b[1m0s\u001b[0m 54ms/step - l1_norm_loss: 1.3515 - loss: 2.1833 - reconstruction_loss: 0.8318\n",
      "Epoch 12/100\n",
      "\u001b[1m7/7\u001b[0m \u001b[32m━━━━━━━━━━━━━━━━━━━━\u001b[0m\u001b[37m\u001b[0m \u001b[1m0s\u001b[0m 54ms/step - l1_norm_loss: 1.2468 - loss: 2.0516 - reconstruction_loss: 0.8048\n",
      "Epoch 13/100\n",
      "\u001b[1m7/7\u001b[0m \u001b[32m━━━━━━━━━━━━━━━━━━━━\u001b[0m\u001b[37m\u001b[0m \u001b[1m0s\u001b[0m 54ms/step - l1_norm_loss: 1.1425 - loss: 1.9248 - reconstruction_loss: 0.7823\n",
      "Epoch 14/100\n",
      "\u001b[1m7/7\u001b[0m \u001b[32m━━━━━━━━━━━━━━━━━━━━\u001b[0m\u001b[37m\u001b[0m \u001b[1m0s\u001b[0m 54ms/step - l1_norm_loss: 1.0925 - loss: 1.8504 - reconstruction_loss: 0.7580\n",
      "Epoch 15/100\n",
      "\u001b[1m7/7\u001b[0m \u001b[32m━━━━━━━━━━━━━━━━━━━━\u001b[0m\u001b[37m\u001b[0m \u001b[1m0s\u001b[0m 54ms/step - l1_norm_loss: 1.0195 - loss: 1.7623 - reconstruction_loss: 0.7427\n",
      "Epoch 16/100\n",
      "\u001b[1m7/7\u001b[0m \u001b[32m━━━━━━━━━━━━━━━━━━━━\u001b[0m\u001b[37m\u001b[0m \u001b[1m0s\u001b[0m 54ms/step - l1_norm_loss: 0.9653 - loss: 1.6877 - reconstruction_loss: 0.7224\n",
      "Epoch 17/100\n",
      "\u001b[1m7/7\u001b[0m \u001b[32m━━━━━━━━━━━━━━━━━━━━\u001b[0m\u001b[37m\u001b[0m \u001b[1m0s\u001b[0m 54ms/step - l1_norm_loss: 0.8900 - loss: 1.5963 - reconstruction_loss: 0.7063\n",
      "Epoch 18/100\n",
      "\u001b[1m7/7\u001b[0m \u001b[32m━━━━━━━━━━━━━━━━━━━━\u001b[0m\u001b[37m\u001b[0m \u001b[1m0s\u001b[0m 54ms/step - l1_norm_loss: 0.8595 - loss: 1.5522 - reconstruction_loss: 0.6928\n",
      "Epoch 19/100\n",
      "\u001b[1m7/7\u001b[0m \u001b[32m━━━━━━━━━━━━━━━━━━━━\u001b[0m\u001b[37m\u001b[0m \u001b[1m0s\u001b[0m 54ms/step - l1_norm_loss: 0.8001 - loss: 1.4798 - reconstruction_loss: 0.6797\n",
      "Epoch 20/100\n",
      "\u001b[1m7/7\u001b[0m \u001b[32m━━━━━━━━━━━━━━━━━━━━\u001b[0m\u001b[37m\u001b[0m \u001b[1m0s\u001b[0m 54ms/step - l1_norm_loss: 0.7561 - loss: 1.4250 - reconstruction_loss: 0.6688\n",
      "Epoch 21/100\n",
      "\u001b[1m7/7\u001b[0m \u001b[32m━━━━━━━━━━━━━━━━━━━━\u001b[0m\u001b[37m\u001b[0m \u001b[1m0s\u001b[0m 54ms/step - l1_norm_loss: 0.7145 - loss: 1.3727 - reconstruction_loss: 0.6582\n",
      "Epoch 22/100\n",
      "\u001b[1m7/7\u001b[0m \u001b[32m━━━━━━━━━━━━━━━━━━━━\u001b[0m\u001b[37m\u001b[0m \u001b[1m0s\u001b[0m 54ms/step - l1_norm_loss: 0.7073 - loss: 1.3545 - reconstruction_loss: 0.6472\n",
      "Epoch 23/100\n",
      "\u001b[1m7/7\u001b[0m \u001b[32m━━━━━━━━━━━━━━━━━━━━\u001b[0m\u001b[37m\u001b[0m \u001b[1m0s\u001b[0m 54ms/step - l1_norm_loss: 0.6864 - loss: 1.3226 - reconstruction_loss: 0.6362\n",
      "Epoch 24/100\n",
      "\u001b[1m7/7\u001b[0m \u001b[32m━━━━━━━━━━━━━━━━━━━━\u001b[0m\u001b[37m\u001b[0m \u001b[1m0s\u001b[0m 54ms/step - l1_norm_loss: 0.6713 - loss: 1.3023 - reconstruction_loss: 0.6310\n",
      "Epoch 25/100\n",
      "\u001b[1m7/7\u001b[0m \u001b[32m━━━━━━━━━━━━━━━━━━━━\u001b[0m\u001b[37m\u001b[0m \u001b[1m0s\u001b[0m 54ms/step - l1_norm_loss: 0.6582 - loss: 1.2769 - reconstruction_loss: 0.6187\n",
      "Epoch 26/100\n",
      "\u001b[1m7/7\u001b[0m \u001b[32m━━━━━━━━━━━━━━━━━━━━\u001b[0m\u001b[37m\u001b[0m \u001b[1m0s\u001b[0m 53ms/step - l1_norm_loss: 0.6273 - loss: 1.2405 - reconstruction_loss: 0.6132\n",
      "Epoch 27/100\n",
      "\u001b[1m7/7\u001b[0m \u001b[32m━━━━━━━━━━━━━━━━━━━━\u001b[0m\u001b[37m\u001b[0m \u001b[1m0s\u001b[0m 54ms/step - l1_norm_loss: 0.5970 - loss: 1.2010 - reconstruction_loss: 0.6039\n",
      "Epoch 28/100\n",
      "\u001b[1m7/7\u001b[0m \u001b[32m━━━━━━━━━━━━━━━━━━━━\u001b[0m\u001b[37m\u001b[0m \u001b[1m0s\u001b[0m 54ms/step - l1_norm_loss: 0.5771 - loss: 1.1737 - reconstruction_loss: 0.5966\n",
      "Epoch 29/100\n",
      "\u001b[1m7/7\u001b[0m \u001b[32m━━━━━━━━━━━━━━━━━━━━\u001b[0m\u001b[37m\u001b[0m \u001b[1m0s\u001b[0m 53ms/step - l1_norm_loss: 0.5710 - loss: 1.1568 - reconstruction_loss: 0.5858\n",
      "Epoch 30/100\n",
      "\u001b[1m7/7\u001b[0m \u001b[32m━━━━━━━━━━━━━━━━━━━━\u001b[0m\u001b[37m\u001b[0m \u001b[1m0s\u001b[0m 53ms/step - l1_norm_loss: 0.5458 - loss: 1.1271 - reconstruction_loss: 0.5814\n",
      "Epoch 31/100\n",
      "\u001b[1m7/7\u001b[0m \u001b[32m━━━━━━━━━━━━━━━━━━━━\u001b[0m\u001b[37m\u001b[0m \u001b[1m0s\u001b[0m 53ms/step - l1_norm_loss: 0.5517 - loss: 1.1239 - reconstruction_loss: 0.5722\n",
      "Epoch 32/100\n",
      "\u001b[1m7/7\u001b[0m \u001b[32m━━━━━━━━━━━━━━━━━━━━\u001b[0m\u001b[37m\u001b[0m \u001b[1m0s\u001b[0m 53ms/step - l1_norm_loss: 0.5531 - loss: 1.1203 - reconstruction_loss: 0.5673\n",
      "Epoch 33/100\n",
      "\u001b[1m7/7\u001b[0m \u001b[32m━━━━━━━━━━━━━━━━━━━━\u001b[0m\u001b[37m\u001b[0m \u001b[1m0s\u001b[0m 53ms/step - l1_norm_loss: 0.5374 - loss: 1.0985 - reconstruction_loss: 0.5610\n",
      "Epoch 34/100\n",
      "\u001b[1m7/7\u001b[0m \u001b[32m━━━━━━━━━━━━━━━━━━━━\u001b[0m\u001b[37m\u001b[0m \u001b[1m0s\u001b[0m 54ms/step - l1_norm_loss: 0.5247 - loss: 1.0758 - reconstruction_loss: 0.5512\n",
      "Epoch 35/100\n",
      "\u001b[1m7/7\u001b[0m \u001b[32m━━━━━━━━━━━━━━━━━━━━\u001b[0m\u001b[37m\u001b[0m \u001b[1m0s\u001b[0m 54ms/step - l1_norm_loss: 0.5243 - loss: 1.0706 - reconstruction_loss: 0.5462\n",
      "Epoch 36/100\n",
      "\u001b[1m7/7\u001b[0m \u001b[32m━━━━━━━━━━━━━━━━━━━━\u001b[0m\u001b[37m\u001b[0m \u001b[1m0s\u001b[0m 58ms/step - l1_norm_loss: 0.5116 - loss: 1.0497 - reconstruction_loss: 0.5381\n",
      "Epoch 37/100\n",
      "\u001b[1m7/7\u001b[0m \u001b[32m━━━━━━━━━━━━━━━━━━━━\u001b[0m\u001b[37m\u001b[0m \u001b[1m0s\u001b[0m 59ms/step - l1_norm_loss: 0.4982 - loss: 1.0294 - reconstruction_loss: 0.5312\n",
      "Epoch 38/100\n",
      "\u001b[1m7/7\u001b[0m \u001b[32m━━━━━━━━━━━━━━━━━━━━\u001b[0m\u001b[37m\u001b[0m \u001b[1m0s\u001b[0m 56ms/step - l1_norm_loss: 0.4855 - loss: 1.0104 - reconstruction_loss: 0.5249\n",
      "Epoch 39/100\n",
      "\u001b[1m7/7\u001b[0m \u001b[32m━━━━━━━━━━━━━━━━━━━━\u001b[0m\u001b[37m\u001b[0m \u001b[1m0s\u001b[0m 55ms/step - l1_norm_loss: 0.4902 - loss: 1.0098 - reconstruction_loss: 0.5196\n",
      "Epoch 40/100\n",
      "\u001b[1m7/7\u001b[0m \u001b[32m━━━━━━━━━━━━━━━━━━━━\u001b[0m\u001b[37m\u001b[0m \u001b[1m0s\u001b[0m 53ms/step - l1_norm_loss: 0.5084 - loss: 1.0233 - reconstruction_loss: 0.5150\n",
      "Epoch 41/100\n",
      "\u001b[1m7/7\u001b[0m \u001b[32m━━━━━━━━━━━━━━━━━━━━\u001b[0m\u001b[37m\u001b[0m \u001b[1m0s\u001b[0m 53ms/step - l1_norm_loss: 0.4995 - loss: 1.0149 - reconstruction_loss: 0.5154\n",
      "Epoch 42/100\n",
      "\u001b[1m7/7\u001b[0m \u001b[32m━━━━━━━━━━━━━━━━━━━━\u001b[0m\u001b[37m\u001b[0m \u001b[1m0s\u001b[0m 54ms/step - l1_norm_loss: 0.4918 - loss: 0.9980 - reconstruction_loss: 0.5062\n",
      "Epoch 43/100\n",
      "\u001b[1m7/7\u001b[0m \u001b[32m━━━━━━━━━━━━━━━━━━━━\u001b[0m\u001b[37m\u001b[0m \u001b[1m0s\u001b[0m 53ms/step - l1_norm_loss: 0.4831 - loss: 0.9819 - reconstruction_loss: 0.4987\n",
      "Epoch 44/100\n",
      "\u001b[1m7/7\u001b[0m \u001b[32m━━━━━━━━━━━━━━━━━━━━\u001b[0m\u001b[37m\u001b[0m \u001b[1m0s\u001b[0m 54ms/step - l1_norm_loss: 0.4648 - loss: 0.9575 - reconstruction_loss: 0.4928\n",
      "Epoch 45/100\n",
      "\u001b[1m7/7\u001b[0m \u001b[32m━━━━━━━━━━━━━━━━━━━━\u001b[0m\u001b[37m\u001b[0m \u001b[1m0s\u001b[0m 53ms/step - l1_norm_loss: 0.4684 - loss: 0.9550 - reconstruction_loss: 0.4866\n",
      "Epoch 46/100\n",
      "\u001b[1m7/7\u001b[0m \u001b[32m━━━━━━━━━━━━━━━━━━━━\u001b[0m\u001b[37m\u001b[0m \u001b[1m0s\u001b[0m 55ms/step - l1_norm_loss: 0.4663 - loss: 0.9468 - reconstruction_loss: 0.4805\n",
      "Epoch 47/100\n",
      "\u001b[1m7/7\u001b[0m \u001b[32m━━━━━━━━━━━━━━━━━━━━\u001b[0m\u001b[37m\u001b[0m \u001b[1m0s\u001b[0m 55ms/step - l1_norm_loss: 0.4539 - loss: 0.9303 - reconstruction_loss: 0.4765\n",
      "Epoch 48/100\n",
      "\u001b[1m7/7\u001b[0m \u001b[32m━━━━━━━━━━━━━━━━━━━━\u001b[0m\u001b[37m\u001b[0m \u001b[1m0s\u001b[0m 54ms/step - l1_norm_loss: 0.4468 - loss: 0.9173 - reconstruction_loss: 0.4705\n",
      "Epoch 49/100\n",
      "\u001b[1m7/7\u001b[0m \u001b[32m━━━━━━━━━━━━━━━━━━━━\u001b[0m\u001b[37m\u001b[0m \u001b[1m0s\u001b[0m 54ms/step - l1_norm_loss: 0.4619 - loss: 0.9289 - reconstruction_loss: 0.4670\n",
      "Epoch 50/100\n",
      "\u001b[1m7/7\u001b[0m \u001b[32m━━━━━━━━━━━━━━━━━━━━\u001b[0m\u001b[37m\u001b[0m \u001b[1m0s\u001b[0m 54ms/step - l1_norm_loss: 0.4498 - loss: 0.9134 - reconstruction_loss: 0.4636\n",
      "Epoch 51/100\n",
      "\u001b[1m7/7\u001b[0m \u001b[32m━━━━━━━━━━━━━━━━━━━━\u001b[0m\u001b[37m\u001b[0m \u001b[1m0s\u001b[0m 57ms/step - l1_norm_loss: 0.4476 - loss: 0.9057 - reconstruction_loss: 0.4581\n",
      "Epoch 52/100\n",
      "\u001b[1m7/7\u001b[0m \u001b[32m━━━━━━━━━━━━━━━━━━━━\u001b[0m\u001b[37m\u001b[0m \u001b[1m0s\u001b[0m 57ms/step - l1_norm_loss: 0.4376 - loss: 0.8930 - reconstruction_loss: 0.4553\n",
      "Epoch 53/100\n",
      "\u001b[1m7/7\u001b[0m \u001b[32m━━━━━━━━━━━━━━━━━━━━\u001b[0m\u001b[37m\u001b[0m \u001b[1m0s\u001b[0m 56ms/step - l1_norm_loss: 0.4423 - loss: 0.8935 - reconstruction_loss: 0.4513\n",
      "Epoch 54/100\n",
      "\u001b[1m7/7\u001b[0m \u001b[32m━━━━━━━━━━━━━━━━━━━━\u001b[0m\u001b[37m\u001b[0m \u001b[1m0s\u001b[0m 53ms/step - l1_norm_loss: 0.4365 - loss: 0.8835 - reconstruction_loss: 0.4470\n",
      "Epoch 55/100\n",
      "\u001b[1m7/7\u001b[0m \u001b[32m━━━━━━━━━━━━━━━━━━━━\u001b[0m\u001b[37m\u001b[0m \u001b[1m0s\u001b[0m 54ms/step - l1_norm_loss: 0.4300 - loss: 0.8735 - reconstruction_loss: 0.4435\n",
      "Epoch 56/100\n",
      "\u001b[1m7/7\u001b[0m \u001b[32m━━━━━━━━━━━━━━━━━━━━\u001b[0m\u001b[37m\u001b[0m \u001b[1m0s\u001b[0m 56ms/step - l1_norm_loss: 0.4250 - loss: 0.8649 - reconstruction_loss: 0.4399\n",
      "Epoch 57/100\n",
      "\u001b[1m7/7\u001b[0m \u001b[32m━━━━━━━━━━━━━━━━━━━━\u001b[0m\u001b[37m\u001b[0m \u001b[1m0s\u001b[0m 53ms/step - l1_norm_loss: 0.4196 - loss: 0.8560 - reconstruction_loss: 0.4363\n",
      "Epoch 58/100\n",
      "\u001b[1m7/7\u001b[0m \u001b[32m━━━━━━━━━━━━━━━━━━━━\u001b[0m\u001b[37m\u001b[0m \u001b[1m0s\u001b[0m 56ms/step - l1_norm_loss: 0.4213 - loss: 0.8545 - reconstruction_loss: 0.4332\n",
      "Epoch 59/100\n",
      "\u001b[1m7/7\u001b[0m \u001b[32m━━━━━━━━━━━━━━━━━━━━\u001b[0m\u001b[37m\u001b[0m \u001b[1m0s\u001b[0m 54ms/step - l1_norm_loss: 0.4133 - loss: 0.8442 - reconstruction_loss: 0.4309\n",
      "Epoch 60/100\n",
      "\u001b[1m7/7\u001b[0m \u001b[32m━━━━━━━━━━━━━━━━━━━━\u001b[0m\u001b[37m\u001b[0m \u001b[1m0s\u001b[0m 54ms/step - l1_norm_loss: 0.4071 - loss: 0.8347 - reconstruction_loss: 0.4276\n",
      "Epoch 61/100\n",
      "\u001b[1m7/7\u001b[0m \u001b[32m━━━━━━━━━━━━━━━━━━━━\u001b[0m\u001b[37m\u001b[0m \u001b[1m0s\u001b[0m 53ms/step - l1_norm_loss: 0.4089 - loss: 0.8334 - reconstruction_loss: 0.4245\n",
      "Epoch 62/100\n",
      "\u001b[1m7/7\u001b[0m \u001b[32m━━━━━━━━━━━━━━━━━━━━\u001b[0m\u001b[37m\u001b[0m \u001b[1m0s\u001b[0m 54ms/step - l1_norm_loss: 0.4203 - loss: 0.8421 - reconstruction_loss: 0.4218\n",
      "Epoch 63/100\n",
      "\u001b[1m7/7\u001b[0m \u001b[32m━━━━━━━━━━━━━━━━━━━━\u001b[0m\u001b[37m\u001b[0m \u001b[1m0s\u001b[0m 54ms/step - l1_norm_loss: 0.4276 - loss: 0.8476 - reconstruction_loss: 0.4200\n",
      "Epoch 64/100\n",
      "\u001b[1m7/7\u001b[0m \u001b[32m━━━━━━━━━━━━━━━━━━━━\u001b[0m\u001b[37m\u001b[0m \u001b[1m0s\u001b[0m 53ms/step - l1_norm_loss: 0.4246 - loss: 0.8425 - reconstruction_loss: 0.4179\n",
      "Epoch 65/100\n",
      "\u001b[1m7/7\u001b[0m \u001b[32m━━━━━━━━━━━━━━━━━━━━\u001b[0m\u001b[37m\u001b[0m \u001b[1m0s\u001b[0m 53ms/step - l1_norm_loss: 0.4219 - loss: 0.8356 - reconstruction_loss: 0.4137\n",
      "Epoch 66/100\n",
      "\u001b[1m7/7\u001b[0m \u001b[32m━━━━━━━━━━━━━━━━━━━━\u001b[0m\u001b[37m\u001b[0m \u001b[1m0s\u001b[0m 54ms/step - l1_norm_loss: 0.4227 - loss: 0.8345 - reconstruction_loss: 0.4119\n",
      "Epoch 67/100\n",
      "\u001b[1m7/7\u001b[0m \u001b[32m━━━━━━━━━━━━━━━━━━━━\u001b[0m\u001b[37m\u001b[0m \u001b[1m0s\u001b[0m 55ms/step - l1_norm_loss: 0.4264 - loss: 0.8363 - reconstruction_loss: 0.4099\n",
      "Epoch 68/100\n",
      "\u001b[1m7/7\u001b[0m \u001b[32m━━━━━━━━━━━━━━━━━━━━\u001b[0m\u001b[37m\u001b[0m \u001b[1m0s\u001b[0m 56ms/step - l1_norm_loss: 0.4199 - loss: 0.8262 - reconstruction_loss: 0.4063\n",
      "Epoch 69/100\n",
      "\u001b[1m7/7\u001b[0m \u001b[32m━━━━━━━━━━━━━━━━━━━━\u001b[0m\u001b[37m\u001b[0m \u001b[1m0s\u001b[0m 55ms/step - l1_norm_loss: 0.4139 - loss: 0.8183 - reconstruction_loss: 0.4044\n",
      "Epoch 70/100\n",
      "\u001b[1m7/7\u001b[0m \u001b[32m━━━━━━━━━━━━━━━━━━━━\u001b[0m\u001b[37m\u001b[0m \u001b[1m0s\u001b[0m 55ms/step - l1_norm_loss: 0.4084 - loss: 0.8093 - reconstruction_loss: 0.4009\n",
      "Epoch 71/100\n",
      "\u001b[1m7/7\u001b[0m \u001b[32m━━━━━━━━━━━━━━━━━━━━\u001b[0m\u001b[37m\u001b[0m \u001b[1m0s\u001b[0m 56ms/step - l1_norm_loss: 0.4149 - loss: 0.8132 - reconstruction_loss: 0.3983\n",
      "Epoch 72/100\n",
      "\u001b[1m7/7\u001b[0m \u001b[32m━━━━━━━━━━━━━━━━━━━━\u001b[0m\u001b[37m\u001b[0m \u001b[1m0s\u001b[0m 55ms/step - l1_norm_loss: 0.4041 - loss: 0.7986 - reconstruction_loss: 0.3945\n",
      "Epoch 73/100\n",
      "\u001b[1m7/7\u001b[0m \u001b[32m━━━━━━━━━━━━━━━━━━━━\u001b[0m\u001b[37m\u001b[0m \u001b[1m0s\u001b[0m 56ms/step - l1_norm_loss: 0.4029 - loss: 0.7983 - reconstruction_loss: 0.3954\n",
      "Epoch 74/100\n",
      "\u001b[1m7/7\u001b[0m \u001b[32m━━━━━━━━━━━━━━━━━━━━\u001b[0m\u001b[37m\u001b[0m \u001b[1m0s\u001b[0m 55ms/step - l1_norm_loss: 0.3991 - loss: 0.7901 - reconstruction_loss: 0.3910\n",
      "Epoch 75/100\n",
      "\u001b[1m7/7\u001b[0m \u001b[32m━━━━━━━━━━━━━━━━━━━━\u001b[0m\u001b[37m\u001b[0m \u001b[1m0s\u001b[0m 55ms/step - l1_norm_loss: 0.3944 - loss: 0.7842 - reconstruction_loss: 0.3898\n",
      "Epoch 76/100\n",
      "\u001b[1m7/7\u001b[0m \u001b[32m━━━━━━━━━━━━━━━━━━━━\u001b[0m\u001b[37m\u001b[0m \u001b[1m3s\u001b[0m 556ms/step - l1_norm_loss: 0.4004 - loss: 0.7873 - reconstruction_loss: 0.3869\n",
      "Epoch 77/100\n",
      "\u001b[1m7/7\u001b[0m \u001b[32m━━━━━━━━━━━━━━━━━━━━\u001b[0m\u001b[37m\u001b[0m \u001b[1m0s\u001b[0m 55ms/step - l1_norm_loss: 0.4103 - loss: 0.7983 - reconstruction_loss: 0.3880\n",
      "Epoch 78/100\n",
      "\u001b[1m7/7\u001b[0m \u001b[32m━━━━━━━━━━━━━━━━━━━━\u001b[0m\u001b[37m\u001b[0m \u001b[1m0s\u001b[0m 56ms/step - l1_norm_loss: 0.4213 - loss: 0.8070 - reconstruction_loss: 0.3857\n",
      "Epoch 79/100\n",
      "\u001b[1m7/7\u001b[0m \u001b[32m━━━━━━━━━━━━━━━━━━━━\u001b[0m\u001b[37m\u001b[0m \u001b[1m0s\u001b[0m 60ms/step - l1_norm_loss: 0.4040 - loss: 0.7867 - reconstruction_loss: 0.3828\n",
      "Epoch 80/100\n",
      "\u001b[1m7/7\u001b[0m \u001b[32m━━━━━━━━━━━━━━━━━━━━\u001b[0m\u001b[37m\u001b[0m \u001b[1m0s\u001b[0m 56ms/step - l1_norm_loss: 0.3975 - loss: 0.7760 - reconstruction_loss: 0.3786\n",
      "Epoch 81/100\n",
      "\u001b[1m7/7\u001b[0m \u001b[32m━━━━━━━━━━━━━━━━━━━━\u001b[0m\u001b[37m\u001b[0m \u001b[1m0s\u001b[0m 57ms/step - l1_norm_loss: 0.4003 - loss: 0.7765 - reconstruction_loss: 0.3762\n",
      "Epoch 82/100\n",
      "\u001b[1m7/7\u001b[0m \u001b[32m━━━━━━━━━━━━━━━━━━━━\u001b[0m\u001b[37m\u001b[0m \u001b[1m0s\u001b[0m 55ms/step - l1_norm_loss: 0.4011 - loss: 0.7758 - reconstruction_loss: 0.3747\n",
      "Epoch 83/100\n",
      "\u001b[1m7/7\u001b[0m \u001b[32m━━━━━━━━━━━━━━━━━━━━\u001b[0m\u001b[37m\u001b[0m \u001b[1m0s\u001b[0m 55ms/step - l1_norm_loss: 0.3899 - loss: 0.7614 - reconstruction_loss: 0.3715\n",
      "Epoch 84/100\n",
      "\u001b[1m7/7\u001b[0m \u001b[32m━━━━━━━━━━━━━━━━━━━━\u001b[0m\u001b[37m\u001b[0m \u001b[1m0s\u001b[0m 55ms/step - l1_norm_loss: 0.3897 - loss: 0.7597 - reconstruction_loss: 0.3700\n",
      "Epoch 85/100\n",
      "\u001b[1m7/7\u001b[0m \u001b[32m━━━━━━━━━━━━━━━━━━━━\u001b[0m\u001b[37m\u001b[0m \u001b[1m0s\u001b[0m 55ms/step - l1_norm_loss: 0.3862 - loss: 0.7529 - reconstruction_loss: 0.3667\n",
      "Epoch 86/100\n",
      "\u001b[1m7/7\u001b[0m \u001b[32m━━━━━━━━━━━━━━━━━━━━\u001b[0m\u001b[37m\u001b[0m \u001b[1m0s\u001b[0m 58ms/step - l1_norm_loss: 0.3731 - loss: 0.7386 - reconstruction_loss: 0.3655\n",
      "Epoch 87/100\n",
      "\u001b[1m7/7\u001b[0m \u001b[32m━━━━━━━━━━━━━━━━━━━━\u001b[0m\u001b[37m\u001b[0m \u001b[1m0s\u001b[0m 59ms/step - l1_norm_loss: 0.3773 - loss: 0.7400 - reconstruction_loss: 0.3627\n",
      "Epoch 88/100\n",
      "\u001b[1m7/7\u001b[0m \u001b[32m━━━━━━━━━━━━━━━━━━━━\u001b[0m\u001b[37m\u001b[0m \u001b[1m0s\u001b[0m 59ms/step - l1_norm_loss: 0.3730 - loss: 0.7352 - reconstruction_loss: 0.3622\n",
      "Epoch 89/100\n",
      "\u001b[1m7/7\u001b[0m \u001b[32m━━━━━━━━━━━━━━━━━━━━\u001b[0m\u001b[37m\u001b[0m \u001b[1m0s\u001b[0m 55ms/step - l1_norm_loss: 0.3742 - loss: 0.7331 - reconstruction_loss: 0.3590\n",
      "Epoch 90/100\n",
      "\u001b[1m7/7\u001b[0m \u001b[32m━━━━━━━━━━━━━━━━━━━━\u001b[0m\u001b[37m\u001b[0m \u001b[1m0s\u001b[0m 56ms/step - l1_norm_loss: 0.3797 - loss: 0.7384 - reconstruction_loss: 0.3587\n",
      "Epoch 91/100\n",
      "\u001b[1m7/7\u001b[0m \u001b[32m━━━━━━━━━━━━━━━━━━━━\u001b[0m\u001b[37m\u001b[0m \u001b[1m0s\u001b[0m 56ms/step - l1_norm_loss: 0.3786 - loss: 0.7348 - reconstruction_loss: 0.3562\n",
      "Epoch 92/100\n",
      "\u001b[1m7/7\u001b[0m \u001b[32m━━━━━━━━━━━━━━━━━━━━\u001b[0m\u001b[37m\u001b[0m \u001b[1m0s\u001b[0m 55ms/step - l1_norm_loss: 0.3780 - loss: 0.7334 - reconstruction_loss: 0.3554\n",
      "Epoch 93/100\n",
      "\u001b[1m7/7\u001b[0m \u001b[32m━━━━━━━━━━━━━━━━━━━━\u001b[0m\u001b[37m\u001b[0m \u001b[1m0s\u001b[0m 55ms/step - l1_norm_loss: 0.3689 - loss: 0.7209 - reconstruction_loss: 0.3520\n",
      "Epoch 94/100\n",
      "\u001b[1m7/7\u001b[0m \u001b[32m━━━━━━━━━━━━━━━━━━━━\u001b[0m\u001b[37m\u001b[0m \u001b[1m0s\u001b[0m 55ms/step - l1_norm_loss: 0.3673 - loss: 0.7176 - reconstruction_loss: 0.3503\n",
      "Epoch 95/100\n",
      "\u001b[1m7/7\u001b[0m \u001b[32m━━━━━━━━━━━━━━━━━━━━\u001b[0m\u001b[37m\u001b[0m \u001b[1m0s\u001b[0m 55ms/step - l1_norm_loss: 0.3787 - loss: 0.7286 - reconstruction_loss: 0.3499\n",
      "Epoch 96/100\n",
      "\u001b[1m7/7\u001b[0m \u001b[32m━━━━━━━━━━━━━━━━━━━━\u001b[0m\u001b[37m\u001b[0m \u001b[1m0s\u001b[0m 58ms/step - l1_norm_loss: 0.3756 - loss: 0.7245 - reconstruction_loss: 0.3489\n",
      "Epoch 97/100\n",
      "\u001b[1m7/7\u001b[0m \u001b[32m━━━━━━━━━━━━━━━━━━━━\u001b[0m\u001b[37m\u001b[0m \u001b[1m0s\u001b[0m 55ms/step - l1_norm_loss: 0.3795 - loss: 0.7279 - reconstruction_loss: 0.3484\n",
      "Epoch 98/100\n",
      "\u001b[1m7/7\u001b[0m \u001b[32m━━━━━━━━━━━━━━━━━━━━\u001b[0m\u001b[37m\u001b[0m \u001b[1m0s\u001b[0m 55ms/step - l1_norm_loss: 0.3853 - loss: 0.7319 - reconstruction_loss: 0.3467\n",
      "Epoch 99/100\n",
      "\u001b[1m7/7\u001b[0m \u001b[32m━━━━━━━━━━━━━━━━━━━━\u001b[0m\u001b[37m\u001b[0m \u001b[1m0s\u001b[0m 55ms/step - l1_norm_loss: 0.3833 - loss: 0.7268 - reconstruction_loss: 0.3435\n",
      "Epoch 100/100\n",
      "\u001b[1m7/7\u001b[0m \u001b[32m━━━━━━━━━━━━━━━━━━━━\u001b[0m\u001b[37m\u001b[0m \u001b[1m0s\u001b[0m 55ms/step - l1_norm_loss: 0.3711 - loss: 0.7113 - reconstruction_loss: 0.3402\n"
     ]
    }
   ],
   "source": [
    "autoencoder = Autoencoder(encoder, decoder, l1_norm_weight, recon_weight)\n",
    "autoencoder.compile(optimizer=keras.optimizers.Adam(learning_rate))\n",
    "history = autoencoder.fit(dataset, epochs=epochs)\n",
    "\n"
   ]
  },
  {
   "cell_type": "code",
   "execution_count": 17,
   "metadata": {},
   "outputs": [
    {
     "data": {
      "image/png": "[encoded data removed]",
      "text/plain": [
       "<Figure size 640x480 with 1 Axes>"
      ]
     },
     "metadata": {},
     "output_type": "display_data"
    }
   ],
   "source": [
    "plt.plot(history.history['loss'], label='TOTAL LOSS')\n",
    "plt.xlabel('EPOCHS')\n",
    "plt.ylabel('LOSS')\n",
    "plt.legend()\n",
    "plt.grid(True)\n",
    "plt.show()\n"
   ]
  },
  {
   "cell_type": "code",
   "execution_count": 18,
   "metadata": {},
   "outputs": [
    {
     "data": {
      "image/png": "[encoded data removed]",
      "text/plain": [
       "<Figure size 640x480 with 1 Axes>"
      ]
     },
     "metadata": {},
     "output_type": "display_data"
    }
   ],
   "source": [
    "plt.plot(history.history['l1_norm_loss'], label='L1 LOSS')\n",
    "plt.xlabel('EPOCHS')\n",
    "plt.ylabel('L1 LOSS')\n",
    "plt.legend()\n",
    "plt.grid(True)\n",
    "plt.show()"
   ]
  },
  {
   "cell_type": "code",
   "execution_count": 19,
   "metadata": {},
   "outputs": [
    {
     "data": {
      "image/png": "[encoded data removed]",
      "text/plain": [
       "<Figure size 640x480 with 1 Axes>"
      ]
     },
     "metadata": {},
     "output_type": "display_data"
    }
   ],
   "source": [
    "plt.plot(history.history['reconstruction_loss'], label='RECON LOSS')\n",
    "plt.xlabel('EPOCHS')\n",
    "plt.ylabel('RECON LOSS')\n",
    "plt.legend()\n",
    "plt.grid(True)\n",
    "plt.show()"
   ]
  },
  {
   "cell_type": "markdown",
   "metadata": {},
   "source": [
    "# Analisis de las entropias\n",
    "\n",
    "Uno de los objetivos al agregar una norma L1 como termino en la función de costo fue lograr que la reducción de dimensionalidad no fuera explicita, esto nos permite visualizar que columnas o dimensiones de nuestra base de datos son más o menos informativas, lo cual nos permite distinguir en cuales son más o menos útiles a considerar para el problema que estemos abordando.\n",
    "\n",
    "En este caso estamos usando nuestro autocodificador en una base de datos de expresión génica para cancer de higado, que contiene aproximadamente 22000 columnas (genes), de las cuales no podriamos saber a simple vista cuales considerar para la clasificación de el tipo de cancer sin antes hacer por ejemplo un analisis de componentes principales, el entrenar una red neuronal como un autocodificador se presenta como una alternativa para obtener este tipo de resultados con un modelo de Deep Learning.\n",
    "\n",
    "Para analizar que componentes aportan más o menos información nos valdremos de una cantidad llamada Entropía de la Información o Entropía de Shannon, en este analisis nos concentraremos primero en ver la entropia por dimensión, es decir, vamos a caracterizar cada gen con esta cantidad y a partir de esta veremos que columnas contienen más información relevante para la detección. De este modo los datos originales tendrán una entropia inicial y despues al pasar por el codificador nuestra red aprenderá una representación comprimida de los datos lo cual en principio deberia reducir la entropia de los mismos.\n",
    "\n",
    "De los graficos se púede ver que efectivamente se ha logrado una reduccón de entropia en la representanción latente, esto quiere decir que nuestra red neuronal esta filtrando la información que es o no relevante para la clasificación, en este caso una columna (gen) con alta entropia tiene una expresión genica muy variada (distribución de probabilidad pareja) por lo que no aporta mucha información a la predicción mientras que  un gen que tiene baja entropia tiene una expresión genica más predecible por lo que su patron podria estar relacionado con el tipo de cancer (aporta más información a la clasificación), al reducirse esta entropia en el espacio latente estamos logrando que la red aprenda estos patrones relevantes en la información para los genes que los contienen."
   ]
  },
  {
   "cell_type": "code",
   "execution_count": null,
   "metadata": {},
   "outputs": [],
   "source": []
  }
 ],
 "metadata": {
  "colab": {
   "authorship_tag": "ABX9TyPoPVeFjZpMjeeIBDEdE5r0",
   "mount_file_id": "1pUcAh9M0CnrSNpkixfVpTAu7x6lhfOJ2",
   "provenance": []
  },
  "kernelspec": {
   "display_name": "Python 3 (ipykernel)",
   "language": "python",
   "name": "python3"
  },
  "language_info": {
   "codemirror_mode": {
    "name": "ipython",
    "version": 3
   },
   "file_extension": ".py",
   "mimetype": "text/x-python",
   "name": "python",
   "nbconvert_exporter": "python",
   "pygments_lexer": "ipython3",
   "version": "3.11.13"
  }
 },
 "nbformat": 4,
 "nbformat_minor": 4
}
