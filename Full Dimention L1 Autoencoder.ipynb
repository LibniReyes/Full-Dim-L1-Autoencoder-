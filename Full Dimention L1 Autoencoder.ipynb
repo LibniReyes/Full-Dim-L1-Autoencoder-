{
 "cells": [
  {
   "cell_type": "markdown",
   "metadata": {},
   "source": [
    "# Autocodificador con sparsidad \n",
    "\n",
    "El siguiente autocodificador se creo bajo la idea de reducir la dimensionalidad para una  base de datos de alta dimensión, a diferencia de un autocodificador tradicional en el cual se van reduciendo el número de neuronas gradualmente a manera de \"embudo\" la arquitectura de esté autocodifacodr tiene un cambio pequeño pero significativo.\n",
    "\n",
    "Cuando en un autocodificador clásico se llega a la representación latente más comprimida la dimensión de este vector latente es igual al número de neuronas del espacio latente, tipicamnete la dimensión latente es más pequeña que la dimensión de los datos de entrada así logrando reducir la dimensión de los datos, está representación latente se encuentra en la mitad de nuestro autocodificador y dependiendo del tipo de datos de entrada se seleccionan las funciones de costo, las cuales son normalmente una de regularización y de reconstrucción, ya que el objetivo al construir un autocodificador es lograr reproducir los datos de entrada.\n",
    "\n",
    "En este autocodificador tenemos  un espacio latente de la misma dimensión que los datos de entrada, lo cual no tendría sentido ya que no se está reduciendo la dimensionalidad pero añadimos un término de regularización a la función de costo el cual es la norma L2 de el vector latente para de esta fortma lograr que la salida de algunas neuronas se acerque o se haga cero, de esta manera se lográ reducir la dimensionalidad de manera implicita ya que auqellas  neuronas que esten cerca del cero o sean cero, podemos considerarlas como si no estuvieran ahí (ya que no aportan información significativa a la representación latente) por lo que podemos \"cortarlas\", de esta manera reduciendo las dimensiones de la información de entrada."
   ]
  },
  {
   "cell_type": "code",
   "execution_count": 1,
   "metadata": {
    "executionInfo": {
     "elapsed": 11372,
     "status": "ok",
     "timestamp": 1749526888070,
     "user": {
      "displayName": "Libni Reyes Machorro",
      "userId": "01607819748328925216"
     },
     "user_tz": 360
    },
    "id": "YC4b8jwp7a2z"
   },
   "outputs": [],
   "source": [
    "import pandas as pd\n",
    "import numpy as np\n",
    "import tensorflow as tf\n",
    "from tensorflow import keras\n",
    "from tensorflow.keras.layers import LeakyReLU\n",
    "from tensorflow.keras import layers\n",
    "from sklearn.preprocessing import StandardScaler\n",
    "import datetime\n",
    "import matplotlib.pyplot as plt"
   ]
  },
  {
   "cell_type": "code",
   "execution_count": 3,
   "metadata": {
    "colab": {
     "base_uri": "https://localhost:8080/",
     "height": 236
    },
    "executionInfo": {
     "elapsed": 7466,
     "status": "ok",
     "timestamp": 1749526895539,
     "user": {
      "displayName": "Libni Reyes Machorro",
      "userId": "01607819748328925216"
     },
     "user_tz": 360
    },
    "id": "0C87yhOWddqt",
    "outputId": "254b5235-c736-4543-d8b0-c64577918399"
   },
   "outputs": [
    {
     "data": {
      "text/html": [
       "<div>\n",
       "<style scoped>\n",
       "    .dataframe tbody tr th:only-of-type {\n",
       "        vertical-align: middle;\n",
       "    }\n",
       "\n",
       "    .dataframe tbody tr th {\n",
       "        vertical-align: top;\n",
       "    }\n",
       "\n",
       "    .dataframe thead th {\n",
       "        text-align: right;\n",
       "    }\n",
       "</style>\n",
       "<table border=\"1\" class=\"dataframe\">\n",
       "  <thead>\n",
       "    <tr style=\"text-align: right;\">\n",
       "      <th></th>\n",
       "      <th>samples</th>\n",
       "      <th>type</th>\n",
       "      <th>1007_s_at</th>\n",
       "      <th>1053_at</th>\n",
       "      <th>117_at</th>\n",
       "      <th>121_at</th>\n",
       "      <th>1255_g_at</th>\n",
       "      <th>1294_at</th>\n",
       "      <th>1316_at</th>\n",
       "      <th>1320_at</th>\n",
       "      <th>...</th>\n",
       "      <th>AFFX-r2-Ec-bioD-3_at</th>\n",
       "      <th>AFFX-r2-Ec-bioD-5_at</th>\n",
       "      <th>AFFX-r2-P1-cre-3_at</th>\n",
       "      <th>AFFX-r2-P1-cre-5_at</th>\n",
       "      <th>AFFX-ThrX-3_at</th>\n",
       "      <th>AFFX-ThrX-5_at</th>\n",
       "      <th>AFFX-ThrX-M_at</th>\n",
       "      <th>AFFX-TrpnX-3_at</th>\n",
       "      <th>AFFX-TrpnX-5_at</th>\n",
       "      <th>AFFX-TrpnX-M_at</th>\n",
       "    </tr>\n",
       "  </thead>\n",
       "  <tbody>\n",
       "    <tr>\n",
       "      <th>0</th>\n",
       "      <td>GSM362958.CEL.gz</td>\n",
       "      <td>HCC</td>\n",
       "      <td>6.801198</td>\n",
       "      <td>4.553189</td>\n",
       "      <td>6.787790</td>\n",
       "      <td>5.430893</td>\n",
       "      <td>3.250222</td>\n",
       "      <td>6.272688</td>\n",
       "      <td>3.413405</td>\n",
       "      <td>3.374910</td>\n",
       "      <td>...</td>\n",
       "      <td>10.735084</td>\n",
       "      <td>10.398843</td>\n",
       "      <td>12.298551</td>\n",
       "      <td>12.270505</td>\n",
       "      <td>3.855588</td>\n",
       "      <td>3.148321</td>\n",
       "      <td>3.366087</td>\n",
       "      <td>3.199008</td>\n",
       "      <td>3.160388</td>\n",
       "      <td>3.366417</td>\n",
       "    </tr>\n",
       "    <tr>\n",
       "      <th>1</th>\n",
       "      <td>GSM362959.CEL.gz</td>\n",
       "      <td>HCC</td>\n",
       "      <td>7.585956</td>\n",
       "      <td>4.193540</td>\n",
       "      <td>3.763183</td>\n",
       "      <td>6.003593</td>\n",
       "      <td>3.309387</td>\n",
       "      <td>6.291927</td>\n",
       "      <td>3.754777</td>\n",
       "      <td>3.587603</td>\n",
       "      <td>...</td>\n",
       "      <td>11.528447</td>\n",
       "      <td>11.369919</td>\n",
       "      <td>12.867048</td>\n",
       "      <td>12.560433</td>\n",
       "      <td>4.016561</td>\n",
       "      <td>3.282867</td>\n",
       "      <td>3.541994</td>\n",
       "      <td>3.548680</td>\n",
       "      <td>3.460083</td>\n",
       "      <td>3.423348</td>\n",
       "    </tr>\n",
       "    <tr>\n",
       "      <th>2</th>\n",
       "      <td>GSM362960.CEL.gz</td>\n",
       "      <td>HCC</td>\n",
       "      <td>7.803370</td>\n",
       "      <td>4.134075</td>\n",
       "      <td>3.433113</td>\n",
       "      <td>5.395057</td>\n",
       "      <td>3.476944</td>\n",
       "      <td>5.825713</td>\n",
       "      <td>3.505036</td>\n",
       "      <td>3.687333</td>\n",
       "      <td>...</td>\n",
       "      <td>10.892460</td>\n",
       "      <td>10.416151</td>\n",
       "      <td>12.356337</td>\n",
       "      <td>11.888482</td>\n",
       "      <td>3.839367</td>\n",
       "      <td>3.598851</td>\n",
       "      <td>3.516791</td>\n",
       "      <td>3.484089</td>\n",
       "      <td>3.282626</td>\n",
       "      <td>3.512024</td>\n",
       "    </tr>\n",
       "    <tr>\n",
       "      <th>3</th>\n",
       "      <td>GSM362964.CEL.gz</td>\n",
       "      <td>HCC</td>\n",
       "      <td>6.920840</td>\n",
       "      <td>4.000651</td>\n",
       "      <td>3.754500</td>\n",
       "      <td>5.645297</td>\n",
       "      <td>3.387530</td>\n",
       "      <td>6.470458</td>\n",
       "      <td>3.629249</td>\n",
       "      <td>3.577534</td>\n",
       "      <td>...</td>\n",
       "      <td>10.686871</td>\n",
       "      <td>10.524836</td>\n",
       "      <td>12.006596</td>\n",
       "      <td>11.846195</td>\n",
       "      <td>3.867602</td>\n",
       "      <td>3.180472</td>\n",
       "      <td>3.309547</td>\n",
       "      <td>3.425501</td>\n",
       "      <td>3.166613</td>\n",
       "      <td>3.377499</td>\n",
       "    </tr>\n",
       "    <tr>\n",
       "      <th>4</th>\n",
       "      <td>GSM362965.CEL.gz</td>\n",
       "      <td>HCC</td>\n",
       "      <td>6.556480</td>\n",
       "      <td>4.599010</td>\n",
       "      <td>4.066155</td>\n",
       "      <td>6.344537</td>\n",
       "      <td>3.372081</td>\n",
       "      <td>5.439280</td>\n",
       "      <td>3.762213</td>\n",
       "      <td>3.440714</td>\n",
       "      <td>...</td>\n",
       "      <td>11.014454</td>\n",
       "      <td>10.775566</td>\n",
       "      <td>12.657182</td>\n",
       "      <td>12.573076</td>\n",
       "      <td>4.091440</td>\n",
       "      <td>3.306729</td>\n",
       "      <td>3.493704</td>\n",
       "      <td>3.205771</td>\n",
       "      <td>3.378567</td>\n",
       "      <td>3.392938</td>\n",
       "    </tr>\n",
       "  </tbody>\n",
       "</table>\n",
       "<p>5 rows × 22279 columns</p>\n",
       "</div>"
      ],
      "text/plain": [
       "            samples type  1007_s_at   1053_at    117_at    121_at  1255_g_at  \\\n",
       "0  GSM362958.CEL.gz  HCC   6.801198  4.553189  6.787790  5.430893   3.250222   \n",
       "1  GSM362959.CEL.gz  HCC   7.585956  4.193540  3.763183  6.003593   3.309387   \n",
       "2  GSM362960.CEL.gz  HCC   7.803370  4.134075  3.433113  5.395057   3.476944   \n",
       "3  GSM362964.CEL.gz  HCC   6.920840  4.000651  3.754500  5.645297   3.387530   \n",
       "4  GSM362965.CEL.gz  HCC   6.556480  4.599010  4.066155  6.344537   3.372081   \n",
       "\n",
       "    1294_at   1316_at   1320_at  ...  AFFX-r2-Ec-bioD-3_at  \\\n",
       "0  6.272688  3.413405  3.374910  ...             10.735084   \n",
       "1  6.291927  3.754777  3.587603  ...             11.528447   \n",
       "2  5.825713  3.505036  3.687333  ...             10.892460   \n",
       "3  6.470458  3.629249  3.577534  ...             10.686871   \n",
       "4  5.439280  3.762213  3.440714  ...             11.014454   \n",
       "\n",
       "   AFFX-r2-Ec-bioD-5_at  AFFX-r2-P1-cre-3_at  AFFX-r2-P1-cre-5_at  \\\n",
       "0             10.398843            12.298551            12.270505   \n",
       "1             11.369919            12.867048            12.560433   \n",
       "2             10.416151            12.356337            11.888482   \n",
       "3             10.524836            12.006596            11.846195   \n",
       "4             10.775566            12.657182            12.573076   \n",
       "\n",
       "   AFFX-ThrX-3_at  AFFX-ThrX-5_at  AFFX-ThrX-M_at  AFFX-TrpnX-3_at  \\\n",
       "0        3.855588        3.148321        3.366087         3.199008   \n",
       "1        4.016561        3.282867        3.541994         3.548680   \n",
       "2        3.839367        3.598851        3.516791         3.484089   \n",
       "3        3.867602        3.180472        3.309547         3.425501   \n",
       "4        4.091440        3.306729        3.493704         3.205771   \n",
       "\n",
       "   AFFX-TrpnX-5_at  AFFX-TrpnX-M_at  \n",
       "0         3.160388         3.366417  \n",
       "1         3.460083         3.423348  \n",
       "2         3.282626         3.512024  \n",
       "3         3.166613         3.377499  \n",
       "4         3.378567         3.392938  \n",
       "\n",
       "[5 rows x 22279 columns]"
      ]
     },
     "execution_count": 3,
     "metadata": {},
     "output_type": "execute_result"
    }
   ],
   "source": [
    "data = pd.read_csv('Liver_GSE14520_U133A.csv')\n",
    "data.head()\n"
   ]
  },
  {
   "cell_type": "code",
   "execution_count": 5,
   "metadata": {
    "colab": {
     "base_uri": "https://localhost:8080/",
     "height": 236
    },
    "executionInfo": {
     "elapsed": 54,
     "status": "ok",
     "timestamp": 1749526895595,
     "user": {
      "displayName": "Libni Reyes Machorro",
      "userId": "01607819748328925216"
     },
     "user_tz": 360
    },
    "id": "Ky3TxsbXd5Dn",
    "outputId": "71aefcde-8eae-4da0-996c-d1a3646b70b7"
   },
   "outputs": [
    {
     "data": {
      "text/html": [
       "<div>\n",
       "<style scoped>\n",
       "    .dataframe tbody tr th:only-of-type {\n",
       "        vertical-align: middle;\n",
       "    }\n",
       "\n",
       "    .dataframe tbody tr th {\n",
       "        vertical-align: top;\n",
       "    }\n",
       "\n",
       "    .dataframe thead th {\n",
       "        text-align: right;\n",
       "    }\n",
       "</style>\n",
       "<table border=\"1\" class=\"dataframe\">\n",
       "  <thead>\n",
       "    <tr style=\"text-align: right;\">\n",
       "      <th></th>\n",
       "      <th>1007_s_at</th>\n",
       "      <th>1053_at</th>\n",
       "      <th>117_at</th>\n",
       "      <th>121_at</th>\n",
       "      <th>1255_g_at</th>\n",
       "      <th>1294_at</th>\n",
       "      <th>1316_at</th>\n",
       "      <th>1320_at</th>\n",
       "      <th>1405_i_at</th>\n",
       "      <th>1431_at</th>\n",
       "      <th>...</th>\n",
       "      <th>AFFX-r2-Ec-bioD-3_at</th>\n",
       "      <th>AFFX-r2-Ec-bioD-5_at</th>\n",
       "      <th>AFFX-r2-P1-cre-3_at</th>\n",
       "      <th>AFFX-r2-P1-cre-5_at</th>\n",
       "      <th>AFFX-ThrX-3_at</th>\n",
       "      <th>AFFX-ThrX-5_at</th>\n",
       "      <th>AFFX-ThrX-M_at</th>\n",
       "      <th>AFFX-TrpnX-3_at</th>\n",
       "      <th>AFFX-TrpnX-5_at</th>\n",
       "      <th>AFFX-TrpnX-M_at</th>\n",
       "    </tr>\n",
       "  </thead>\n",
       "  <tbody>\n",
       "    <tr>\n",
       "      <th>0</th>\n",
       "      <td>6.801198</td>\n",
       "      <td>4.553189</td>\n",
       "      <td>6.787790</td>\n",
       "      <td>5.430893</td>\n",
       "      <td>3.250222</td>\n",
       "      <td>6.272688</td>\n",
       "      <td>3.413405</td>\n",
       "      <td>3.374910</td>\n",
       "      <td>3.654116</td>\n",
       "      <td>3.804983</td>\n",
       "      <td>...</td>\n",
       "      <td>10.735084</td>\n",
       "      <td>10.398843</td>\n",
       "      <td>12.298551</td>\n",
       "      <td>12.270505</td>\n",
       "      <td>3.855588</td>\n",
       "      <td>3.148321</td>\n",
       "      <td>3.366087</td>\n",
       "      <td>3.199008</td>\n",
       "      <td>3.160388</td>\n",
       "      <td>3.366417</td>\n",
       "    </tr>\n",
       "    <tr>\n",
       "      <th>1</th>\n",
       "      <td>7.585956</td>\n",
       "      <td>4.193540</td>\n",
       "      <td>3.763183</td>\n",
       "      <td>6.003593</td>\n",
       "      <td>3.309387</td>\n",
       "      <td>6.291927</td>\n",
       "      <td>3.754777</td>\n",
       "      <td>3.587603</td>\n",
       "      <td>5.137159</td>\n",
       "      <td>8.622475</td>\n",
       "      <td>...</td>\n",
       "      <td>11.528447</td>\n",
       "      <td>11.369919</td>\n",
       "      <td>12.867048</td>\n",
       "      <td>12.560433</td>\n",
       "      <td>4.016561</td>\n",
       "      <td>3.282867</td>\n",
       "      <td>3.541994</td>\n",
       "      <td>3.548680</td>\n",
       "      <td>3.460083</td>\n",
       "      <td>3.423348</td>\n",
       "    </tr>\n",
       "    <tr>\n",
       "      <th>2</th>\n",
       "      <td>7.803370</td>\n",
       "      <td>4.134075</td>\n",
       "      <td>3.433113</td>\n",
       "      <td>5.395057</td>\n",
       "      <td>3.476944</td>\n",
       "      <td>5.825713</td>\n",
       "      <td>3.505036</td>\n",
       "      <td>3.687333</td>\n",
       "      <td>4.515175</td>\n",
       "      <td>12.681439</td>\n",
       "      <td>...</td>\n",
       "      <td>10.892460</td>\n",
       "      <td>10.416151</td>\n",
       "      <td>12.356337</td>\n",
       "      <td>11.888482</td>\n",
       "      <td>3.839367</td>\n",
       "      <td>3.598851</td>\n",
       "      <td>3.516791</td>\n",
       "      <td>3.484089</td>\n",
       "      <td>3.282626</td>\n",
       "      <td>3.512024</td>\n",
       "    </tr>\n",
       "    <tr>\n",
       "      <th>3</th>\n",
       "      <td>6.920840</td>\n",
       "      <td>4.000651</td>\n",
       "      <td>3.754500</td>\n",
       "      <td>5.645297</td>\n",
       "      <td>3.387530</td>\n",
       "      <td>6.470458</td>\n",
       "      <td>3.629249</td>\n",
       "      <td>3.577534</td>\n",
       "      <td>5.192624</td>\n",
       "      <td>11.759412</td>\n",
       "      <td>...</td>\n",
       "      <td>10.686871</td>\n",
       "      <td>10.524836</td>\n",
       "      <td>12.006596</td>\n",
       "      <td>11.846195</td>\n",
       "      <td>3.867602</td>\n",
       "      <td>3.180472</td>\n",
       "      <td>3.309547</td>\n",
       "      <td>3.425501</td>\n",
       "      <td>3.166613</td>\n",
       "      <td>3.377499</td>\n",
       "    </tr>\n",
       "    <tr>\n",
       "      <th>4</th>\n",
       "      <td>6.556480</td>\n",
       "      <td>4.599010</td>\n",
       "      <td>4.066155</td>\n",
       "      <td>6.344537</td>\n",
       "      <td>3.372081</td>\n",
       "      <td>5.439280</td>\n",
       "      <td>3.762213</td>\n",
       "      <td>3.440714</td>\n",
       "      <td>4.961625</td>\n",
       "      <td>10.318552</td>\n",
       "      <td>...</td>\n",
       "      <td>11.014454</td>\n",
       "      <td>10.775566</td>\n",
       "      <td>12.657182</td>\n",
       "      <td>12.573076</td>\n",
       "      <td>4.091440</td>\n",
       "      <td>3.306729</td>\n",
       "      <td>3.493704</td>\n",
       "      <td>3.205771</td>\n",
       "      <td>3.378567</td>\n",
       "      <td>3.392938</td>\n",
       "    </tr>\n",
       "  </tbody>\n",
       "</table>\n",
       "<p>5 rows × 22277 columns</p>\n",
       "</div>"
      ],
      "text/plain": [
       "   1007_s_at   1053_at    117_at    121_at  1255_g_at   1294_at   1316_at  \\\n",
       "0   6.801198  4.553189  6.787790  5.430893   3.250222  6.272688  3.413405   \n",
       "1   7.585956  4.193540  3.763183  6.003593   3.309387  6.291927  3.754777   \n",
       "2   7.803370  4.134075  3.433113  5.395057   3.476944  5.825713  3.505036   \n",
       "3   6.920840  4.000651  3.754500  5.645297   3.387530  6.470458  3.629249   \n",
       "4   6.556480  4.599010  4.066155  6.344537   3.372081  5.439280  3.762213   \n",
       "\n",
       "    1320_at  1405_i_at    1431_at  ...  AFFX-r2-Ec-bioD-3_at  \\\n",
       "0  3.374910   3.654116   3.804983  ...             10.735084   \n",
       "1  3.587603   5.137159   8.622475  ...             11.528447   \n",
       "2  3.687333   4.515175  12.681439  ...             10.892460   \n",
       "3  3.577534   5.192624  11.759412  ...             10.686871   \n",
       "4  3.440714   4.961625  10.318552  ...             11.014454   \n",
       "\n",
       "   AFFX-r2-Ec-bioD-5_at  AFFX-r2-P1-cre-3_at  AFFX-r2-P1-cre-5_at  \\\n",
       "0             10.398843            12.298551            12.270505   \n",
       "1             11.369919            12.867048            12.560433   \n",
       "2             10.416151            12.356337            11.888482   \n",
       "3             10.524836            12.006596            11.846195   \n",
       "4             10.775566            12.657182            12.573076   \n",
       "\n",
       "   AFFX-ThrX-3_at  AFFX-ThrX-5_at  AFFX-ThrX-M_at  AFFX-TrpnX-3_at  \\\n",
       "0        3.855588        3.148321        3.366087         3.199008   \n",
       "1        4.016561        3.282867        3.541994         3.548680   \n",
       "2        3.839367        3.598851        3.516791         3.484089   \n",
       "3        3.867602        3.180472        3.309547         3.425501   \n",
       "4        4.091440        3.306729        3.493704         3.205771   \n",
       "\n",
       "   AFFX-TrpnX-5_at  AFFX-TrpnX-M_at  \n",
       "0         3.160388         3.366417  \n",
       "1         3.460083         3.423348  \n",
       "2         3.282626         3.512024  \n",
       "3         3.166613         3.377499  \n",
       "4         3.378567         3.392938  \n",
       "\n",
       "[5 rows x 22277 columns]"
      ]
     },
     "execution_count": 5,
     "metadata": {},
     "output_type": "execute_result"
    }
   ],
   "source": [
    "data.drop(['samples','type'], axis=1, inplace=True)\n",
    "data.head()"
   ]
  },
  {
   "cell_type": "code",
   "execution_count": 7,
   "metadata": {
    "executionInfo": {
     "elapsed": 192,
     "status": "ok",
     "timestamp": 1749526895797,
     "user": {
      "displayName": "Libni Reyes Machorro",
      "userId": "01607819748328925216"
     },
     "user_tz": 360
    },
    "id": "_NgaeFHafGPv"
   },
   "outputs": [],
   "source": [
    "# Normalización de los datos\n",
    "data = data.values.astype(np.float32)\n",
    "data = StandardScaler().fit_transform(data)"
   ]
  },
  {
   "cell_type": "code",
   "execution_count": 9,
   "metadata": {
    "executionInfo": {
     "elapsed": 1,
     "status": "ok",
     "timestamp": 1749526895801,
     "user": {
      "displayName": "Libni Reyes Machorro",
      "userId": "01607819748328925216"
     },
     "user_tz": 360
    },
    "id": "OQVuiS_reHTG"
   },
   "outputs": [],
   "source": [
    "# Hiperparametros de la red\n",
    "input_dim = data.shape[1]\n",
    "latent_dim = input_dim\n",
    "learning_rate = 0.0001\n",
    "l1_norm_weight = 1e-5\n",
    "recon_weight = 1\n",
    "negative_slope = 0.1\n",
    "mini_batch_size = 51"
   ]
  },
  {
   "cell_type": "code",
   "execution_count": 11,
   "metadata": {
    "executionInfo": {
     "elapsed": 7953,
     "status": "ok",
     "timestamp": 1749526903756,
     "user": {
      "displayName": "Libni Reyes Machorro",
      "userId": "01607819748328925216"
     },
     "user_tz": 360
    },
    "id": "dELPL2CKfBxc"
   },
   "outputs": [],
   "source": [
    "# encoder\n",
    "input_layer = keras.Input(shape=(input_dim,))\n",
    "latent_space = layers.Dense(input_dim, name=\"latent_space\")(input_layer)\n",
    "latent_space =  LeakyReLU(negative_slope)(latent_space)"
   ]
  },
  {
   "cell_type": "code",
   "execution_count": 13,
   "metadata": {
    "colab": {
     "base_uri": "https://localhost:8080/",
     "height": 204
    },
    "executionInfo": {
     "elapsed": 10,
     "status": "ok",
     "timestamp": 1749526903774,
     "user": {
      "displayName": "Libni Reyes Machorro",
      "userId": "01607819748328925216"
     },
     "user_tz": 360
    },
    "id": "dIsVWpjFgl2x",
    "outputId": "b6d11b3d-95bd-46a0-a16a-3142e2a1fb45"
   },
   "outputs": [
    {
     "data": {
      "text/html": [
       "<pre style=\"white-space:pre;overflow-x:auto;line-height:normal;font-family:Menlo,'DejaVu Sans Mono',consolas,'Courier New',monospace\"><span style=\"font-weight: bold\">Model: \"encoder\"</span>\n",
       "</pre>\n"
      ],
      "text/plain": [
       "\u001b[1mModel: \"encoder\"\u001b[0m\n"
      ]
     },
     "metadata": {},
     "output_type": "display_data"
    },
    {
     "data": {
      "text/html": [
       "<pre style=\"white-space:pre;overflow-x:auto;line-height:normal;font-family:Menlo,'DejaVu Sans Mono',consolas,'Courier New',monospace\">┏━━━━━━━━━━━━━━━━━━━━━━━━━━━━━━━━━┳━━━━━━━━━━━━━━━━━━━━━━━━┳━━━━━━━━━━━━━━━┓\n",
       "┃<span style=\"font-weight: bold\"> Layer (type)                    </span>┃<span style=\"font-weight: bold\"> Output Shape           </span>┃<span style=\"font-weight: bold\">       Param # </span>┃\n",
       "┡━━━━━━━━━━━━━━━━━━━━━━━━━━━━━━━━━╇━━━━━━━━━━━━━━━━━━━━━━━━╇━━━━━━━━━━━━━━━┩\n",
       "│ input_layer (<span style=\"color: #0087ff; text-decoration-color: #0087ff\">InputLayer</span>)        │ (<span style=\"color: #00d7ff; text-decoration-color: #00d7ff\">None</span>, <span style=\"color: #00af00; text-decoration-color: #00af00\">22277</span>)          │             <span style=\"color: #00af00; text-decoration-color: #00af00\">0</span> │\n",
       "├─────────────────────────────────┼────────────────────────┼───────────────┤\n",
       "│ latent_space (<span style=\"color: #0087ff; text-decoration-color: #0087ff\">Dense</span>)            │ (<span style=\"color: #00d7ff; text-decoration-color: #00d7ff\">None</span>, <span style=\"color: #00af00; text-decoration-color: #00af00\">22277</span>)          │   <span style=\"color: #00af00; text-decoration-color: #00af00\">496,287,006</span> │\n",
       "├─────────────────────────────────┼────────────────────────┼───────────────┤\n",
       "│ leaky_re_lu (<span style=\"color: #0087ff; text-decoration-color: #0087ff\">LeakyReLU</span>)         │ (<span style=\"color: #00d7ff; text-decoration-color: #00d7ff\">None</span>, <span style=\"color: #00af00; text-decoration-color: #00af00\">22277</span>)          │             <span style=\"color: #00af00; text-decoration-color: #00af00\">0</span> │\n",
       "└─────────────────────────────────┴────────────────────────┴───────────────┘\n",
       "</pre>\n"
      ],
      "text/plain": [
       "┏━━━━━━━━━━━━━━━━━━━━━━━━━━━━━━━━━┳━━━━━━━━━━━━━━━━━━━━━━━━┳━━━━━━━━━━━━━━━┓\n",
       "┃\u001b[1m \u001b[0m\u001b[1mLayer (type)                   \u001b[0m\u001b[1m \u001b[0m┃\u001b[1m \u001b[0m\u001b[1mOutput Shape          \u001b[0m\u001b[1m \u001b[0m┃\u001b[1m \u001b[0m\u001b[1m      Param #\u001b[0m\u001b[1m \u001b[0m┃\n",
       "┡━━━━━━━━━━━━━━━━━━━━━━━━━━━━━━━━━╇━━━━━━━━━━━━━━━━━━━━━━━━╇━━━━━━━━━━━━━━━┩\n",
       "│ input_layer (\u001b[38;5;33mInputLayer\u001b[0m)        │ (\u001b[38;5;45mNone\u001b[0m, \u001b[38;5;34m22277\u001b[0m)          │             \u001b[38;5;34m0\u001b[0m │\n",
       "├─────────────────────────────────┼────────────────────────┼───────────────┤\n",
       "│ latent_space (\u001b[38;5;33mDense\u001b[0m)            │ (\u001b[38;5;45mNone\u001b[0m, \u001b[38;5;34m22277\u001b[0m)          │   \u001b[38;5;34m496,287,006\u001b[0m │\n",
       "├─────────────────────────────────┼────────────────────────┼───────────────┤\n",
       "│ leaky_re_lu (\u001b[38;5;33mLeakyReLU\u001b[0m)         │ (\u001b[38;5;45mNone\u001b[0m, \u001b[38;5;34m22277\u001b[0m)          │             \u001b[38;5;34m0\u001b[0m │\n",
       "└─────────────────────────────────┴────────────────────────┴───────────────┘\n"
      ]
     },
     "metadata": {},
     "output_type": "display_data"
    },
    {
     "data": {
      "text/html": [
       "<pre style=\"white-space:pre;overflow-x:auto;line-height:normal;font-family:Menlo,'DejaVu Sans Mono',consolas,'Courier New',monospace\"><span style=\"font-weight: bold\"> Total params: </span><span style=\"color: #00af00; text-decoration-color: #00af00\">496,287,006</span> (1.85 GB)\n",
       "</pre>\n"
      ],
      "text/plain": [
       "\u001b[1m Total params: \u001b[0m\u001b[38;5;34m496,287,006\u001b[0m (1.85 GB)\n"
      ]
     },
     "metadata": {},
     "output_type": "display_data"
    },
    {
     "data": {
      "text/html": [
       "<pre style=\"white-space:pre;overflow-x:auto;line-height:normal;font-family:Menlo,'DejaVu Sans Mono',consolas,'Courier New',monospace\"><span style=\"font-weight: bold\"> Trainable params: </span><span style=\"color: #00af00; text-decoration-color: #00af00\">496,287,006</span> (1.85 GB)\n",
       "</pre>\n"
      ],
      "text/plain": [
       "\u001b[1m Trainable params: \u001b[0m\u001b[38;5;34m496,287,006\u001b[0m (1.85 GB)\n"
      ]
     },
     "metadata": {},
     "output_type": "display_data"
    },
    {
     "data": {
      "text/html": [
       "<pre style=\"white-space:pre;overflow-x:auto;line-height:normal;font-family:Menlo,'DejaVu Sans Mono',consolas,'Courier New',monospace\"><span style=\"font-weight: bold\"> Non-trainable params: </span><span style=\"color: #00af00; text-decoration-color: #00af00\">0</span> (0.00 B)\n",
       "</pre>\n"
      ],
      "text/plain": [
       "\u001b[1m Non-trainable params: \u001b[0m\u001b[38;5;34m0\u001b[0m (0.00 B)\n"
      ]
     },
     "metadata": {},
     "output_type": "display_data"
    }
   ],
   "source": [
    "encoder = keras.Model(input_layer, latent_space, name=\"encoder\")\n",
    "encoder.summary()"
   ]
  },
  {
   "cell_type": "code",
   "execution_count": 15,
   "metadata": {
    "executionInfo": {
     "elapsed": 4952,
     "status": "ok",
     "timestamp": 1749526908727,
     "user": {
      "displayName": "Libni Reyes Machorro",
      "userId": "01607819748328925216"
     },
     "user_tz": 360
    },
    "id": "kudjUACYgP8m"
   },
   "outputs": [],
   "source": [
    "# decoder\n",
    "latent_input = keras.Input(shape=(input_dim,), name=\"decoder_input\")\n",
    "reconstruction = layers.Dense(input_dim, name=\"decoder_output\")(latent_input)\n",
    "reconstruction = layers.LeakyReLU(negative_slope)(reconstruction)"
   ]
  },
  {
   "cell_type": "code",
   "execution_count": 17,
   "metadata": {
    "colab": {
     "base_uri": "https://localhost:8080/",
     "height": 204
    },
    "executionInfo": {
     "elapsed": 22,
     "status": "ok",
     "timestamp": 1749526908748,
     "user": {
      "displayName": "Libni Reyes Machorro",
      "userId": "01607819748328925216"
     },
     "user_tz": 360
    },
    "id": "N6EBtnQfgfg9",
    "outputId": "c0010d6b-a078-4873-b23e-dfa9d9985c7a"
   },
   "outputs": [
    {
     "data": {
      "text/html": [
       "<pre style=\"white-space:pre;overflow-x:auto;line-height:normal;font-family:Menlo,'DejaVu Sans Mono',consolas,'Courier New',monospace\"><span style=\"font-weight: bold\">Model: \"decoder\"</span>\n",
       "</pre>\n"
      ],
      "text/plain": [
       "\u001b[1mModel: \"decoder\"\u001b[0m\n"
      ]
     },
     "metadata": {},
     "output_type": "display_data"
    },
    {
     "data": {
      "text/html": [
       "<pre style=\"white-space:pre;overflow-x:auto;line-height:normal;font-family:Menlo,'DejaVu Sans Mono',consolas,'Courier New',monospace\">┏━━━━━━━━━━━━━━━━━━━━━━━━━━━━━━━━━┳━━━━━━━━━━━━━━━━━━━━━━━━┳━━━━━━━━━━━━━━━┓\n",
       "┃<span style=\"font-weight: bold\"> Layer (type)                    </span>┃<span style=\"font-weight: bold\"> Output Shape           </span>┃<span style=\"font-weight: bold\">       Param # </span>┃\n",
       "┡━━━━━━━━━━━━━━━━━━━━━━━━━━━━━━━━━╇━━━━━━━━━━━━━━━━━━━━━━━━╇━━━━━━━━━━━━━━━┩\n",
       "│ decoder_input (<span style=\"color: #0087ff; text-decoration-color: #0087ff\">InputLayer</span>)      │ (<span style=\"color: #00d7ff; text-decoration-color: #00d7ff\">None</span>, <span style=\"color: #00af00; text-decoration-color: #00af00\">22277</span>)          │             <span style=\"color: #00af00; text-decoration-color: #00af00\">0</span> │\n",
       "├─────────────────────────────────┼────────────────────────┼───────────────┤\n",
       "│ decoder_output (<span style=\"color: #0087ff; text-decoration-color: #0087ff\">Dense</span>)          │ (<span style=\"color: #00d7ff; text-decoration-color: #00d7ff\">None</span>, <span style=\"color: #00af00; text-decoration-color: #00af00\">22277</span>)          │   <span style=\"color: #00af00; text-decoration-color: #00af00\">496,287,006</span> │\n",
       "├─────────────────────────────────┼────────────────────────┼───────────────┤\n",
       "│ leaky_re_lu_1 (<span style=\"color: #0087ff; text-decoration-color: #0087ff\">LeakyReLU</span>)       │ (<span style=\"color: #00d7ff; text-decoration-color: #00d7ff\">None</span>, <span style=\"color: #00af00; text-decoration-color: #00af00\">22277</span>)          │             <span style=\"color: #00af00; text-decoration-color: #00af00\">0</span> │\n",
       "└─────────────────────────────────┴────────────────────────┴───────────────┘\n",
       "</pre>\n"
      ],
      "text/plain": [
       "┏━━━━━━━━━━━━━━━━━━━━━━━━━━━━━━━━━┳━━━━━━━━━━━━━━━━━━━━━━━━┳━━━━━━━━━━━━━━━┓\n",
       "┃\u001b[1m \u001b[0m\u001b[1mLayer (type)                   \u001b[0m\u001b[1m \u001b[0m┃\u001b[1m \u001b[0m\u001b[1mOutput Shape          \u001b[0m\u001b[1m \u001b[0m┃\u001b[1m \u001b[0m\u001b[1m      Param #\u001b[0m\u001b[1m \u001b[0m┃\n",
       "┡━━━━━━━━━━━━━━━━━━━━━━━━━━━━━━━━━╇━━━━━━━━━━━━━━━━━━━━━━━━╇━━━━━━━━━━━━━━━┩\n",
       "│ decoder_input (\u001b[38;5;33mInputLayer\u001b[0m)      │ (\u001b[38;5;45mNone\u001b[0m, \u001b[38;5;34m22277\u001b[0m)          │             \u001b[38;5;34m0\u001b[0m │\n",
       "├─────────────────────────────────┼────────────────────────┼───────────────┤\n",
       "│ decoder_output (\u001b[38;5;33mDense\u001b[0m)          │ (\u001b[38;5;45mNone\u001b[0m, \u001b[38;5;34m22277\u001b[0m)          │   \u001b[38;5;34m496,287,006\u001b[0m │\n",
       "├─────────────────────────────────┼────────────────────────┼───────────────┤\n",
       "│ leaky_re_lu_1 (\u001b[38;5;33mLeakyReLU\u001b[0m)       │ (\u001b[38;5;45mNone\u001b[0m, \u001b[38;5;34m22277\u001b[0m)          │             \u001b[38;5;34m0\u001b[0m │\n",
       "└─────────────────────────────────┴────────────────────────┴───────────────┘\n"
      ]
     },
     "metadata": {},
     "output_type": "display_data"
    },
    {
     "data": {
      "text/html": [
       "<pre style=\"white-space:pre;overflow-x:auto;line-height:normal;font-family:Menlo,'DejaVu Sans Mono',consolas,'Courier New',monospace\"><span style=\"font-weight: bold\"> Total params: </span><span style=\"color: #00af00; text-decoration-color: #00af00\">496,287,006</span> (1.85 GB)\n",
       "</pre>\n"
      ],
      "text/plain": [
       "\u001b[1m Total params: \u001b[0m\u001b[38;5;34m496,287,006\u001b[0m (1.85 GB)\n"
      ]
     },
     "metadata": {},
     "output_type": "display_data"
    },
    {
     "data": {
      "text/html": [
       "<pre style=\"white-space:pre;overflow-x:auto;line-height:normal;font-family:Menlo,'DejaVu Sans Mono',consolas,'Courier New',monospace\"><span style=\"font-weight: bold\"> Trainable params: </span><span style=\"color: #00af00; text-decoration-color: #00af00\">496,287,006</span> (1.85 GB)\n",
       "</pre>\n"
      ],
      "text/plain": [
       "\u001b[1m Trainable params: \u001b[0m\u001b[38;5;34m496,287,006\u001b[0m (1.85 GB)\n"
      ]
     },
     "metadata": {},
     "output_type": "display_data"
    },
    {
     "data": {
      "text/html": [
       "<pre style=\"white-space:pre;overflow-x:auto;line-height:normal;font-family:Menlo,'DejaVu Sans Mono',consolas,'Courier New',monospace\"><span style=\"font-weight: bold\"> Non-trainable params: </span><span style=\"color: #00af00; text-decoration-color: #00af00\">0</span> (0.00 B)\n",
       "</pre>\n"
      ],
      "text/plain": [
       "\u001b[1m Non-trainable params: \u001b[0m\u001b[38;5;34m0\u001b[0m (0.00 B)\n"
      ]
     },
     "metadata": {},
     "output_type": "display_data"
    }
   ],
   "source": [
    "decoder = keras.Model(latent_input, reconstruction, name=\"decoder\")\n",
    "decoder.summary()"
   ]
  },
  {
   "cell_type": "code",
   "execution_count": 19,
   "metadata": {
    "executionInfo": {
     "elapsed": 18,
     "status": "ok",
     "timestamp": 1749526908767,
     "user": {
      "displayName": "Libni Reyes Machorro",
      "userId": "01607819748328925216"
     },
     "user_tz": 360
    },
    "id": "EmNoj_73g2WJ"
   },
   "outputs": [],
   "source": [
    "class Autoencoder(keras.Model):\n",
    "  def __init__(self, encoder, decoder, l1_norm_weight, recon_weight, **kwargs):\n",
    "    super(Autoencoder, self).__init__(**kwargs)\n",
    "    self.encoder = encoder\n",
    "    self.decoder = decoder\n",
    "    self.l1_norm_weight = l1_norm_weight\n",
    "    self.recon_weight = recon_weight\n",
    "    self.total_loss_tracker = keras.metrics.Mean(name=\"total_loss\")\n",
    "    self.reconstruction_loss_tracker = keras.metrics.Mean(name=\"reconstruction_loss\")\n",
    "    self.l1_norm_loss_tracker = keras.metrics.Mean(name=\"l1_norm_loss\")\n",
    "\n",
    "  def call(self, inputs):\n",
    "      encoded = self.encoder(inputs)\n",
    "      decoded = self.decoder(encoded)\n",
    "      return decoded\n",
    "\n",
    "  @property\n",
    "  def metrics(self):\n",
    "    return [\n",
    "        self.total_loss_tracker,\n",
    "        self.reconstruction_loss_tracker,\n",
    "        self.l1_norm_loss_tracker,\n",
    "    ]\n",
    "\n",
    "  def train_step(self, data):\n",
    "    if isinstance(data, tuple):\n",
    "        data = data[0]\n",
    "\n",
    "    with tf.GradientTape() as tape:\n",
    "        latent_rep = self.encoder(data)\n",
    "        l1_norm_loss = tf.reduce_sum(tf.abs(latent_rep))*self.l1_norm_weight\n",
    "        x_reconstructed = self.decoder(latent_rep)\n",
    "        reconstruction_loss = tf.reduce_mean(\n",
    "                    tf.square(data - x_reconstructed)\n",
    "                )*self.recon_weight\n",
    "\n",
    "        total_loss = l1_norm_loss + reconstruction_loss\n",
    "    grads =  tape.gradient(total_loss, self.trainable_weights)\n",
    "    self.optimizer.apply_gradients(zip(grads, self.trainable_weights))\n",
    "\n",
    "    self.total_loss_tracker.update_state(total_loss)\n",
    "    self.reconstruction_loss_tracker.update_state(reconstruction_loss)\n",
    "    self.l1_norm_loss_tracker.update_state(l1_norm_loss)\n",
    "    return {\n",
    "        \"loss\": self.total_loss_tracker.result(),\n",
    "        \"reconstruction_loss\": self.reconstruction_loss_tracker.result(),\n",
    "        \"l1_norm_loss\": self.l1_norm_loss_tracker.result(),\n",
    "    }\n",
    "\n",
    "\n",
    "\n",
    "\n",
    "\n"
   ]
  },
  {
   "cell_type": "code",
   "execution_count": 21,
   "metadata": {},
   "outputs": [],
   "source": [
    "#implementar un dataset de tensorflow\n",
    "dataset = tf.data.Dataset.from_tensor_slices(data)\n",
    "dataset = dataset.shuffle(buffer_size=357).batch(mini_batch_size)"
   ]
  },
  {
   "cell_type": "code",
   "execution_count": 23,
   "metadata": {
    "colab": {
     "base_uri": "https://localhost:8080/"
    },
    "id": "pnsX-ZiFjXqv",
    "outputId": "deb7edac-0d9c-42dc-db38-a7f2996cb975"
   },
   "outputs": [
    {
     "name": "stdout",
     "output_type": "stream",
     "text": [
      "Epoch 1/15\n",
      "\u001b[1m7/7\u001b[0m \u001b[32m━━━━━━━━━━━━━━━━━━━━\u001b[0m\u001b[37m\u001b[0m \u001b[1m50s\u001b[0m 7s/step - l1_norm_loss: 4.5337 - loss: 5.6550 - reconstruction_loss: 1.1213\n",
      "Epoch 2/15\n",
      "\u001b[1m7/7\u001b[0m \u001b[32m━━━━━━━━━━━━━━━━━━━━\u001b[0m\u001b[37m\u001b[0m \u001b[1m48s\u001b[0m 7s/step - l1_norm_loss: 3.4218 - loss: 4.4439 - reconstruction_loss: 1.0221\n",
      "Epoch 3/15\n",
      "\u001b[1m7/7\u001b[0m \u001b[32m━━━━━━━━━━━━━━━━━━━━\u001b[0m\u001b[37m\u001b[0m \u001b[1m48s\u001b[0m 7s/step - l1_norm_loss: 2.7717 - loss: 3.7417 - reconstruction_loss: 0.9700\n",
      "Epoch 4/15\n",
      "\u001b[1m7/7\u001b[0m \u001b[32m━━━━━━━━━━━━━━━━━━━━\u001b[0m\u001b[37m\u001b[0m \u001b[1m48s\u001b[0m 7s/step - l1_norm_loss: 2.3938 - loss: 3.3713 - reconstruction_loss: 0.9775\n",
      "Epoch 5/15\n",
      "\u001b[1m7/7\u001b[0m \u001b[32m━━━━━━━━━━━━━━━━━━━━\u001b[0m\u001b[37m\u001b[0m \u001b[1m48s\u001b[0m 7s/step - l1_norm_loss: 2.0213 - loss: 2.9731 - reconstruction_loss: 0.9518\n",
      "Epoch 6/15\n",
      "\u001b[1m7/7\u001b[0m \u001b[32m━━━━━━━━━━━━━━━━━━━━\u001b[0m\u001b[37m\u001b[0m \u001b[1m48s\u001b[0m 7s/step - l1_norm_loss: 1.7282 - loss: 2.6869 - reconstruction_loss: 0.9587\n",
      "Epoch 7/15\n",
      "\u001b[1m7/7\u001b[0m \u001b[32m━━━━━━━━━━━━━━━━━━━━\u001b[0m\u001b[37m\u001b[0m \u001b[1m48s\u001b[0m 7s/step - l1_norm_loss: 1.5429 - loss: 2.4457 - reconstruction_loss: 0.9028\n",
      "Epoch 8/15\n",
      "\u001b[1m7/7\u001b[0m \u001b[32m━━━━━━━━━━━━━━━━━━━━\u001b[0m\u001b[37m\u001b[0m \u001b[1m48s\u001b[0m 7s/step - l1_norm_loss: 1.3592 - loss: 2.2504 - reconstruction_loss: 0.8912\n",
      "Epoch 9/15\n",
      "\u001b[1m7/7\u001b[0m \u001b[32m━━━━━━━━━━━━━━━━━━━━\u001b[0m\u001b[37m\u001b[0m \u001b[1m48s\u001b[0m 7s/step - l1_norm_loss: 1.2405 - loss: 2.0728 - reconstruction_loss: 0.8324\n",
      "Epoch 10/15\n",
      "\u001b[1m7/7\u001b[0m \u001b[32m━━━━━━━━━━━━━━━━━━━━\u001b[0m\u001b[37m\u001b[0m \u001b[1m48s\u001b[0m 7s/step - l1_norm_loss: 1.1951 - loss: 2.0141 - reconstruction_loss: 0.8190\n",
      "Epoch 11/15\n",
      "\u001b[1m7/7\u001b[0m \u001b[32m━━━━━━━━━━━━━━━━━━━━\u001b[0m\u001b[37m\u001b[0m \u001b[1m48s\u001b[0m 7s/step - l1_norm_loss: 1.1076 - loss: 1.8647 - reconstruction_loss: 0.7571\n",
      "Epoch 12/15\n",
      "\u001b[1m7/7\u001b[0m \u001b[32m━━━━━━━━━━━━━━━━━━━━\u001b[0m\u001b[37m\u001b[0m \u001b[1m48s\u001b[0m 7s/step - l1_norm_loss: 1.0440 - loss: 1.7951 - reconstruction_loss: 0.7511\n",
      "Epoch 13/15\n",
      "\u001b[1m7/7\u001b[0m \u001b[32m━━━━━━━━━━━━━━━━━━━━\u001b[0m\u001b[37m\u001b[0m \u001b[1m48s\u001b[0m 7s/step - l1_norm_loss: 1.0215 - loss: 1.7687 - reconstruction_loss: 0.7472\n",
      "Epoch 14/15\n",
      "\u001b[1m7/7\u001b[0m \u001b[32m━━━━━━━━━━━━━━━━━━━━\u001b[0m\u001b[37m\u001b[0m \u001b[1m48s\u001b[0m 7s/step - l1_norm_loss: 0.9329 - loss: 1.6247 - reconstruction_loss: 0.6918\n",
      "Epoch 15/15\n",
      "\u001b[1m7/7\u001b[0m \u001b[32m━━━━━━━━━━━━━━━━━━━━\u001b[0m\u001b[37m\u001b[0m \u001b[1m48s\u001b[0m 7s/step - l1_norm_loss: 1.0287 - loss: 1.7246 - reconstruction_loss: 0.6959\n"
     ]
    }
   ],
   "source": [
    "autoencoder = Autoencoder(encoder, decoder, l1_norm_weight, recon_weight)\n",
    "autoencoder.compile(optimizer=keras.optimizers.Adam(learning_rate))\n",
    "history = autoencoder.fit(dataset, epochs=15)\n",
    "\n",
    "\n"
   ]
  },
  {
   "cell_type": "code",
   "execution_count": 29,
   "metadata": {},
   "outputs": [
    {
     "data": {
      "image/png": "[encoded data removed]",
      "text/plain": [
       "<Figure size 640x480 with 1 Axes>"
      ]
     },
     "metadata": {},
     "output_type": "display_data"
    }
   ],
   "source": [
    "\n",
    "plt.plot(history.history['loss'], label='TOTAL LOSS')\n",
    "plt.xlabel('EPOCHS')\n",
    "plt.ylabel('LOSS')\n",
    "plt.legend()\n",
    "plt.grid(True)\n",
    "plt.show()\n"
   ]
  },
  {
   "cell_type": "code",
   "execution_count": null,
   "metadata": {},
   "outputs": [],
   "source": []
  }
 ],
 "metadata": {
  "colab": {
   "authorship_tag": "ABX9TyPoPVeFjZpMjeeIBDEdE5r0",
   "mount_file_id": "1pUcAh9M0CnrSNpkixfVpTAu7x6lhfOJ2",
   "provenance": []
  },
  "kernelspec": {
   "display_name": "Python [conda env:base] *",
   "language": "python",
   "name": "conda-base-py"
  },
  "language_info": {
   "codemirror_mode": {
    "name": "ipython",
    "version": 3
   },
   "file_extension": ".py",
   "mimetype": "text/x-python",
   "name": "python",
   "nbconvert_exporter": "python",
   "pygments_lexer": "ipython3",
   "version": "3.12.7"
  }
 },
 "nbformat": 4,
 "nbformat_minor": 4
}
